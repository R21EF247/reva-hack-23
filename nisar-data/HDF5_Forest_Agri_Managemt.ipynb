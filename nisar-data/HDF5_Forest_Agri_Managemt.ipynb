{
 "cells": [
  {
   "cell_type": "code",
   "execution_count": 1,
   "metadata": {},
   "outputs": [],
   "source": [
    "import h5py"
   ]
  },
  {
   "cell_type": "code",
   "execution_count": 2,
   "metadata": {},
   "outputs": [
    {
     "name": "stdout",
     "output_type": "stream",
     "text": [
      "['science']\n"
     ]
    }
   ],
   "source": [
    "with h5py.File(\"C:/Users/BPIN/Desktop/reva_hackathon-23/HD5_Forest_Managemnet_And_Akarsa_Agriculture.h5\", 'r') as file:\n",
    "    print(list(file.keys()))"
   ]
  },
  {
   "cell_type": "code",
   "execution_count": 6,
   "metadata": {},
   "outputs": [
    {
     "name": "stdout",
     "output_type": "stream",
     "text": [
      "science\n",
      "  Group contents: ['LSAR']\n"
     ]
    }
   ],
   "source": [
    "\n",
    "# Open the HDF5 file\n",
    "with h5py.File(\"C:/Users/BPIN/Desktop/reva_hackathon-23/HD5_Forest_Managemnet_And_Akarsa_Agriculture.h5\",'r') as file:\n",
    "    # List all datasets and groups at the top level\n",
    "    top_level_keys = list(file.keys())\n",
    "\n",
    "    # Print the datasets and groups\n",
    "    for key in top_level_keys:\n",
    "        print(key)\n",
    "        if isinstance(file[key], h5py.Group):\n",
    "            print(\"  Group contents:\", list(file[key].keys()))"
   ]
  },
  {
   "cell_type": "code",
   "execution_count": 7,
   "metadata": {},
   "outputs": [
    {
     "name": "stdout",
     "output_type": "stream",
     "text": [
      "SLC\n",
      "  Group contents: ['metadata', 'swaths']\n",
      "identification\n",
      "  Group contents: ['absoluteOrbitNumber', 'boundingPolygon', 'cycleNumber', 'diagnosticModeFlag', 'frameNumber', 'isUrgentObservation', 'listOfFrequencies', 'lookDirection', 'missionId', 'orbitPassDirection', 'plannedDatatakeId', 'plannedObservationId', 'processingType', 'productType', 'productVersion', 'trackNumber', 'zeroDopplerEndTime', 'zeroDopplerStartTime']\n"
     ]
    }
   ],
   "source": [
    "with h5py.File(\"C:/Users/BPIN/Desktop/reva_hackathon-23/HD5_Forest_Managemnet_And_Akarsa_Agriculture.h5\", 'r') as file:\n",
    "    # Access the 'LSAR' subgroup within the 'science' group\n",
    "    lsar_group = file['science']['LSAR']\n",
    "    \n",
    "    # List datasets and subgroups within 'LSAR'\n",
    "    lsar_contents = list(lsar_group.keys())\n",
    "    \n",
    "    # Print the datasets and subgroups\n",
    "    for key in lsar_contents:\n",
    "        print(key)\n",
    "        # If the key corresponds to another group, display its contents as well\n",
    "        if isinstance(lsar_group[key], h5py.Group):\n",
    "            print(\"  Group contents:\", list(lsar_group[key].keys()))"
   ]
  },
  {
   "cell_type": "code",
   "execution_count": 9,
   "metadata": {},
   "outputs": [
    {
     "name": "stdout",
     "output_type": "stream",
     "text": [
      "frequencyA\n",
      "frequencyB\n",
      "geometry\n",
      "slantRange\n",
      "zeroDopplerTime\n"
     ]
    }
   ],
   "source": [
    "with h5py.File(\"C:/Users/BPIN/Desktop/reva_hackathon-23/HD5_Forest_Managemnet_And_Akarsa_Agriculture.h5\", 'r') as file:\n",
    "    # Access the calibrationInformation dataset/subgroup within the metadata group\n",
    "    calibration_info = file['science']['LSAR']['SLC']['metadata']['calibrationInformation']\n",
    "    \n",
    "    # Print the datasets and subgroups within 'calibrationInformation'\n",
    "    for key in calibration_info.keys():\n",
    "        print(key)"
   ]
  },
  {
   "cell_type": "code",
   "execution_count": 11,
   "metadata": {},
   "outputs": [
    {
     "name": "stdout",
     "output_type": "stream",
     "text": [
      "['elevationAntennaPattern', 'nes0']\n"
     ]
    }
   ],
   "source": [
    "with h5py.File(\"C:/Users/BPIN/Desktop/reva_hackathon-23/HD5_Forest_Managemnet_And_Akarsa_Agriculture.h5\", 'r') as file:\n",
    "    # Access the HH subgroup or dataset within frequencyA of calibrationInformation\n",
    "    hh_calib = file['science']['LSAR']['SLC']['metadata']['calibrationInformation']['frequencyA']['HH']\n",
    "    \n",
    "    # Check if HH is a dataset or a subgroup\n",
    "    if isinstance(hh_calib, h5py.Group):\n",
    "        # If it's a subgroup, list its contents\n",
    "        print(list(hh_calib.keys()))\n",
    "    else:\n",
    "        # If it's a dataset, print some of its data for a glimpse (not the entire dataset if it's large)\n",
    "        print(hh_calib[:10])  # This will print the first 10 entries. You can adjust the number as needed.\n"
   ]
  },
  {
   "cell_type": "code",
   "execution_count": 12,
   "metadata": {},
   "outputs": [
    {
     "name": "stdout",
     "output_type": "stream",
     "text": [
      "[[1.+0.j 1.+0.j 1.+0.j ... 1.+0.j 1.+0.j 1.+0.j]\n",
      " [1.+0.j 1.+0.j 1.+0.j ... 1.+0.j 1.+0.j 1.+0.j]\n",
      " [1.+0.j 1.+0.j 1.+0.j ... 1.+0.j 1.+0.j 1.+0.j]\n",
      " ...\n",
      " [1.+0.j 1.+0.j 1.+0.j ... 1.+0.j 1.+0.j 1.+0.j]\n",
      " [1.+0.j 1.+0.j 1.+0.j ... 1.+0.j 1.+0.j 1.+0.j]\n",
      " [1.+0.j 1.+0.j 1.+0.j ... 1.+0.j 1.+0.j 1.+0.j]]\n"
     ]
    }
   ],
   "source": [
    "with h5py.File(\"C:/Users/BPIN/Desktop/reva_hackathon-23/HD5_Forest_Managemnet_And_Akarsa_Agriculture.h5\", 'r') as file:\n",
    "    # Access the elevationAntennaPattern dataset/subgroup within HH of frequencyA\n",
    "    elevation_pattern = file['science']['LSAR']['SLC']['metadata']['calibrationInformation']['frequencyA']['HH']['elevationAntennaPattern']\n",
    "    \n",
    "    # Check if it's a dataset or a subgroup\n",
    "    if isinstance(elevation_pattern, h5py.Group):\n",
    "        # If it's a subgroup, list its contents\n",
    "        print(list(elevation_pattern.keys()))\n",
    "    else:\n",
    "        # If it's a dataset, print some of its data for a glimpse (not the entire dataset if it's large)\n",
    "        print(elevation_pattern[:10])  # This will print the first 10 entries. Adjust as needed."
   ]
  },
  {
   "cell_type": "code",
   "execution_count": 13,
   "metadata": {},
   "outputs": [
    {
     "name": "stdout",
     "output_type": "stream",
     "text": [
      "[[193.29008 189.32715 185.3642  ... 174.85478 176.35376 177.85275]\n",
      " [193.29008 189.32715 185.3642  ... 174.85478 176.35376 177.85275]\n",
      " [193.29008 189.32715 185.3642  ... 174.85478 176.35376 177.85275]\n",
      " ...\n",
      " [193.29008 189.32715 185.3642  ... 174.85478 176.35376 177.85275]\n",
      " [193.29008 189.32715 185.3642  ... 174.85478 176.35376 177.85275]\n",
      " [193.29008 189.32715 185.3642  ... 174.85478 176.35376 177.85275]]\n"
     ]
    }
   ],
   "source": [
    "with h5py.File(\"C:/Users/BPIN/Desktop/reva_hackathon-23/HD5_Forest_Managemnet_And_Akarsa_Agriculture.h5\", 'r') as file:\n",
    "    # Access the nes0 dataset within HH of frequencyA\n",
    "    nesz_data = file['science']['LSAR']['SLC']['metadata']['calibrationInformation']['frequencyA']['HH']['nes0'][:]\n",
    "    print(nesz_data)"
   ]
  },
  {
   "cell_type": "code",
   "execution_count": 14,
   "metadata": {},
   "outputs": [
    {
     "data": {
      "image/png": "[encoded data removed]",
      "text/plain": [
       "<Figure size 1000x600 with 1 Axes>"
      ]
     },
     "metadata": {},
     "output_type": "display_data"
    }
   ],
   "source": [
    "import numpy as np\n",
    "import matplotlib.pyplot as plt\n",
    "\n",
    "with h5py.File(\"C:/Users/BPIN/Desktop/reva_hackathon-23/HD5_Forest_Managemnet_And_Akarsa_Agriculture.h5\", 'r') as file:\n",
    "    # Access the nes0 dataset within HH of frequencyA\n",
    "    nesz_data = file['science']['LSAR']['SLC']['metadata']['calibrationInformation']['frequencyA']['HH']['nes0'][:]\n",
    "\n",
    "# Visualization\n",
    "plt.figure(figsize=(10,6))\n",
    "plt.plot(nesz_data)\n",
    "plt.title('NESZ for HH Polarization')\n",
    "plt.xlabel('Index')\n",
    "plt.ylabel('NESZ Value (dB?)')  # The unit is often in dB, but you might want to verify this from the metadata or documentation\n",
    "plt.grid(True)\n",
    "plt.show()"
   ]
  },
  {
   "cell_type": "code",
   "execution_count": 15,
   "metadata": {},
   "outputs": [
    {
     "name": "stdout",
     "output_type": "stream",
     "text": [
      "frequencyA\n",
      "  Group contents: ['HH', 'HV', 'VH', 'VV', 'acquiredCenterFrequency', 'acquiredRangeBandwidth', 'listOfPolarizations', 'nominalAcquisitionPRF', 'numberOfSubSwaths', 'processedAzimuthBandwidth', 'processedCenterFrequency', 'processedRangeBandwidth', 'sceneCenterAlongTrackSpacing', 'sceneCenterGroundRangeSpacing', 'slantRange', 'slantRangeSpacing', 'validSamplesSubSwath1']\n",
      "frequencyB\n",
      "  Group contents: ['HH', 'HV', 'VH', 'VV', 'acquiredCenterFrequency', 'acquiredRangeBandwidth', 'listOfPolarizations', 'nominalAcquisitionPRF', 'numberOfSubSwaths', 'processedAzimuthBandwidth', 'processedCenterFrequency', 'processedRangeBandwidth', 'sceneCenterAlongTrackSpacing', 'sceneCenterGroundRangeSpacing', 'slantRange', 'slantRangeSpacing', 'validSamplesSubSwath1']\n",
      "zeroDopplerTime\n",
      "zeroDopplerTimeSpacing\n"
     ]
    }
   ],
   "source": [
    "# Open the HDF5 file\n",
    "with h5py.File(\"C:/Users/BPIN/Desktop/reva_hackathon-23/HD5_Forest_Managemnet_And_Akarsa_Agriculture.h5\", 'r') as file:\n",
    "    # Access the 'LSAR' subgroup within the 'science' group\n",
    "    lsar_group = file['science']['LSAR']\n",
    "    \n",
    "    # Access the 'swaths' subgroup within the 'SLC' group\n",
    "    swaths_group = lsar_group['SLC']['swaths']\n",
    "    \n",
    "    # List datasets and subgroups within 'swaths'\n",
    "    swaths_contents = list(swaths_group.keys())\n",
    "    \n",
    "    # Print the datasets and subgroups within 'swaths'\n",
    "    for key in swaths_contents:\n",
    "        print(key)\n",
    "        # If the key corresponds to another group, display its contents as well\n",
    "        if isinstance(swaths_group[key], h5py.Group):\n",
    "            print(\"  Group contents:\", list(swaths_group[key].keys()))"
   ]
  },
  {
   "cell_type": "code",
   "execution_count": 16,
   "metadata": {},
   "outputs": [],
   "source": [
    "with h5py.File(\"C:/Users/BPIN/Desktop/reva_hackathon-23/HD5_Forest_Managemnet_And_Akarsa_Agriculture.h5\", 'r') as file:\n",
    "    # Access the desired dataset\n",
    "    hh_data_frequencyA = file['science']['LSAR']['SLC']['swaths']['frequencyA']['HH'][:]\n",
    "    vv_data_frequencyA = file['science']['LSAR']['SLC']['swaths']['frequencyA']['VV'][:]"
   ]
  },
  {
   "cell_type": "code",
   "execution_count": 18,
   "metadata": {},
   "outputs": [
    {
     "name": "stdout",
     "output_type": "stream",
     "text": [
      "HH Data\n",
      "[[-0.00667765+5.0330143e-02j -0.03250107-2.4104549e-03j\n",
      "  -0.04241034+3.3779774e-02j ...  0.01499321-7.4710352e-03j\n",
      "   0.01221654+4.1051399e-02j  0.00343657+2.8169926e-02j]\n",
      " [ 0.01685775+1.4251349e-03j -0.0245054 -5.5005841e-02j\n",
      "   0.00354823+5.5514790e-02j ...  0.01316752+2.5332261e-02j\n",
      "  -0.03962056-2.3407467e-02j -0.02898304-5.5767982e-03j]\n",
      " [-0.00755546-3.5406232e-02j -0.03386054+1.6646191e-02j\n",
      "  -0.01330752-8.3328426e-02j ...  0.0017806 -1.7543174e-02j\n",
      "  -0.00287721-3.2274392e-02j  0.03242624+5.4811545e-02j]\n",
      " ...\n",
      " [-0.0259984 -3.6410425e-02j  0.04041896-5.4137133e-02j\n",
      "   0.01992044-4.4573374e-02j ...  0.00486295-4.4380366e-03j\n",
      "   0.0183886 -1.1561764e-03j  0.00456731+6.1422497e-02j]\n",
      " [-0.01122468-2.9083109e-02j  0.00082399-3.4433402e-02j\n",
      "  -0.0057285 +2.5598509e-03j ...  0.01183441+2.3308853e-02j\n",
      "  -0.02304051+6.5051138e-02j -0.02689992-1.2979614e-05j]\n",
      " [ 0.0633774 +5.8327317e-02j -0.02114915+6.2649317e-02j\n",
      "  -0.01550843-6.3986555e-02j ... -0.00851117-2.0433253e-02j\n",
      "   0.02970171+1.0643594e-03j  0.04276251-3.0423524e-03j]]\n",
      "HV Data\n",
      "[[-0.02222888-0.0104785j  -0.00453516-0.0424063j   0.03554233+0.01857473j\n",
      "  ...  0.01466731+0.0049742j   0.02995662-0.00800376j\n",
      "   0.01852511+0.05892881j]\n",
      " [ 0.00883992-0.01451871j -0.0110429 +0.0046293j  -0.00228922-0.00350678j\n",
      "  ...  0.04671131-0.01478238j -0.01410396-0.00865071j\n",
      "  -0.06507403+0.0491442j ]\n",
      " [ 0.00574876+0.04971232j  0.02711292+0.00031302j -0.00701052-0.07846259j\n",
      "  ... -0.01978467+0.04530874j -0.00536639-0.02643098j\n",
      "  -0.03604402-0.03251546j]\n",
      " ...\n",
      " [ 0.04416577-0.00606112j -0.0004571 -0.07421874j  0.01546072-0.00873021j\n",
      "  ...  0.00086501-0.03604694j -0.07218992-0.03238755j\n",
      "   0.04074861+0.02706131j]\n",
      " [ 0.02841353+0.02174797j  0.0045711 +0.00154931j -0.03708501+0.01558346j\n",
      "  ...  0.03251581+0.03521261j -0.01307985-0.07377163j\n",
      "   0.02590167+0.09882731j]\n",
      " [-0.02666713-0.03849789j -0.01962421-0.03014851j  0.00987487-0.00857047j\n",
      "  ... -0.04797276+0.0122523j   0.0049227 +0.01500237j\n",
      "  -0.01066504-0.04079763j]]\n"
     ]
    }
   ],
   "source": [
    "import numpy as np\n",
    "# Open the HDF5 file\n",
    "with h5py.File(\"C:/Users/BPIN/Desktop/reva_hackathon-23/HD5_Forest_Managemnet_And_Akarsa_Agriculture.h5\", \"r\") as file:\n",
    "    # Access the polarization datasets within 'frequencyA' group\n",
    "    hh_data_frequencyA = file['/science/LSAR/SLC/swaths/frequencyA/HH'][:]\n",
    "    hv_data_frequencyA = file['/science/LSAR/SLC/swaths/frequencyA/HV'][:]\n",
    "    \n",
    "    # rvi_frequencyA = 4 * (hv_data_frequencyA / hh_data_frequencyA)\n",
    "    print('HH Data')\n",
    "    print(hh_data_frequencyA)\n",
    "    print('HV Data')\n",
    "    print(hv_data_frequencyA)"
   ]
  },
  {
   "cell_type": "code",
   "execution_count": 19,
   "metadata": {},
   "outputs": [
    {
     "data": {
      "text/html": [
       "<div>\n",
       "<style scoped>\n",
       "    .dataframe tbody tr th:only-of-type {\n",
       "        vertical-align: middle;\n",
       "    }\n",
       "\n",
       "    .dataframe tbody tr th {\n",
       "        vertical-align: top;\n",
       "    }\n",
       "\n",
       "    .dataframe thead th {\n",
       "        text-align: right;\n",
       "    }\n",
       "</style>\n",
       "<table border=\"1\" class=\"dataframe\">\n",
       "  <thead>\n",
       "    <tr style=\"text-align: right;\">\n",
       "      <th></th>\n",
       "      <th>HH_amplitude</th>\n",
       "      <th>HV_amplitude</th>\n",
       "    </tr>\n",
       "  </thead>\n",
       "  <tbody>\n",
       "    <tr>\n",
       "      <th>0</th>\n",
       "      <td>0.050771</td>\n",
       "      <td>0.024575</td>\n",
       "    </tr>\n",
       "    <tr>\n",
       "      <th>1</th>\n",
       "      <td>0.032590</td>\n",
       "      <td>0.042648</td>\n",
       "    </tr>\n",
       "    <tr>\n",
       "      <th>2</th>\n",
       "      <td>0.054219</td>\n",
       "      <td>0.040103</td>\n",
       "    </tr>\n",
       "    <tr>\n",
       "      <th>3</th>\n",
       "      <td>0.084940</td>\n",
       "      <td>0.028420</td>\n",
       "    </tr>\n",
       "    <tr>\n",
       "      <th>4</th>\n",
       "      <td>0.036015</td>\n",
       "      <td>0.022793</td>\n",
       "    </tr>\n",
       "    <tr>\n",
       "      <th>...</th>\n",
       "      <td>...</td>\n",
       "      <td>...</td>\n",
       "    </tr>\n",
       "    <tr>\n",
       "      <th>48449275</th>\n",
       "      <td>0.060785</td>\n",
       "      <td>0.057676</td>\n",
       "    </tr>\n",
       "    <tr>\n",
       "      <th>48449276</th>\n",
       "      <td>0.020605</td>\n",
       "      <td>0.050664</td>\n",
       "    </tr>\n",
       "    <tr>\n",
       "      <th>48449277</th>\n",
       "      <td>0.022135</td>\n",
       "      <td>0.049513</td>\n",
       "    </tr>\n",
       "    <tr>\n",
       "      <th>48449278</th>\n",
       "      <td>0.029721</td>\n",
       "      <td>0.015789</td>\n",
       "    </tr>\n",
       "    <tr>\n",
       "      <th>48449279</th>\n",
       "      <td>0.042871</td>\n",
       "      <td>0.042169</td>\n",
       "    </tr>\n",
       "  </tbody>\n",
       "</table>\n",
       "<p>48449280 rows × 2 columns</p>\n",
       "</div>"
      ],
      "text/plain": [
       "          HH_amplitude  HV_amplitude\n",
       "0             0.050771      0.024575\n",
       "1             0.032590      0.042648\n",
       "2             0.054219      0.040103\n",
       "3             0.084940      0.028420\n",
       "4             0.036015      0.022793\n",
       "...                ...           ...\n",
       "48449275      0.060785      0.057676\n",
       "48449276      0.020605      0.050664\n",
       "48449277      0.022135      0.049513\n",
       "48449278      0.029721      0.015789\n",
       "48449279      0.042871      0.042169\n",
       "\n",
       "[48449280 rows x 2 columns]"
      ]
     },
     "execution_count": 19,
     "metadata": {},
     "output_type": "execute_result"
    }
   ],
   "source": [
    "import pandas as pd\n",
    "import numpy as np\n",
    "\n",
    "# Assume we have the complex numpy arrays as follows (for demonstration, let's just create small arrays):\n",
    "hh_data_frequencyA = np.array(hh_data_frequencyA)\n",
    "\n",
    "hv_data_frequencyA = np.array(hv_data_frequencyA)\n",
    "\n",
    "# Convert complex numbers to amplitude (magnitude)\n",
    "hh_amplitude = np.abs(hh_data_frequencyA)\n",
    "hv_amplitude = np.abs(hv_data_frequencyA)\n",
    "\n",
    "# Flatten the 2D arrays into 1D arrays\n",
    "hh_amplitude_flat = hh_amplitude.flatten()\n",
    "hv_amplitude_flat = hv_amplitude.flatten()\n",
    "\n",
    "# Create a DataFrame with HH and HV amplitude as columns\n",
    "df = pd.DataFrame({'HH_amplitude': hh_amplitude_flat, 'HV_amplitude': hv_amplitude_flat})\n",
    "\n",
    "df"
   ]
  },
  {
   "cell_type": "code",
   "execution_count": 20,
   "metadata": {},
   "outputs": [
    {
     "data": {
      "image/png": "[encoded data removed]",
      "text/plain": [
       "<Figure size 640x480 with 1 Axes>"
      ]
     },
     "metadata": {},
     "output_type": "display_data"
    }
   ],
   "source": [
    "import matplotlib.pyplot as plt\n",
    "import seaborn as sns\n",
    "\n",
    "# Assuming 'data' is your DataFrame with the amplitude columns\n",
    "# data = pd.DataFrame({'HH_amplitude': [your HH data], 'HV_amplitude': [your HV data]})\n",
    "\n",
    "sns.boxplot(data=df[['HH_amplitude', 'HV_amplitude']])\n",
    "plt.title('Boxplot for HH and HV Amplitudes')\n",
    "plt.ylabel('Amplitude')\n",
    "plt.show()"
   ]
  },
  {
   "cell_type": "code",
   "execution_count": 21,
   "metadata": {},
   "outputs": [],
   "source": [
    "import pandas as pd\n",
    "\n",
    "# Assuming 'data' is your DataFrame with the amplitude columns\n",
    "# data = pd.DataFrame({'HH_amplitude': [your HH data], 'HV_amplitude': [your HV data]})\n",
    "\n",
    "Q1 = df.quantile(0.25)\n",
    "Q3 = df.quantile(0.75)\n",
    "IQR = Q3 - Q1\n",
    "\n",
    "# Determine the outliers for each feature\n",
    "outliers = ((df< (Q1 - 1.5 * IQR)) | (df> (Q3 + 1.5 * IQR)))\n",
    "\n",
    "# You can then filter these outliers as follows:\n",
    "hh_outliers = df['HH_amplitude'][outliers['HH_amplitude']]\n",
    "hv_outliers = df['HV_amplitude'][outliers['HV_amplitude']]\n",
    "\n",
    "# If you want to drop the outliers from the original DataFrame\n",
    "data_no_outliers = df[~((df < (Q1 - 1.5 * IQR)) | (df > (Q3 + 1.5 * IQR))).any(axis=1)]\n",
    "\n",
    "# Now, hh_outliers and hv_outliers contain the outlier values\n",
    "# And data_no_outliers contains the DataFrame without outliers\n"
   ]
  },
  {
   "cell_type": "code",
   "execution_count": 22,
   "metadata": {},
   "outputs": [
    {
     "data": {
      "image/png": "[encoded data removed]",
      "text/plain": [
       "<Figure size 640x480 with 1 Axes>"
      ]
     },
     "metadata": {},
     "output_type": "display_data"
    }
   ],
   "source": [
    "import matplotlib.pyplot as plt\n",
    "import seaborn as sns\n",
    "\n",
    "# Assuming 'data' is your DataFrame with the amplitude columns\n",
    "# data = pd.DataFrame({'HH_amplitude': [your HH data], 'HV_amplitude': [your HV data]})\n",
    "\n",
    "sns.boxplot(data=data_no_outliers[['HH_amplitude', 'HV_amplitude']])\n",
    "plt.title('Boxplot for HH and HV Amplitudes')\n",
    "plt.ylabel('Amplitude')\n",
    "plt.show()"
   ]
  }
 ],
 "metadata": {
  "kernelspec": {
   "display_name": "Python 3",
   "language": "python",
   "name": "python3"
  },
  "language_info": {
   "codemirror_mode": {
    "name": "ipython",
    "version": 3
   },
   "file_extension": ".py",
   "mimetype": "text/x-python",
   "name": "python",
   "nbconvert_exporter": "python",
   "pygments_lexer": "ipython3",
   "version": "3.10.11"
  }
 },
 "nbformat": 4,
 "nbformat_minor": 2
}
