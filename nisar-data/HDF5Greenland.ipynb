{
 "cells": [
  {
   "cell_type": "code",
   "execution_count": 2,
   "metadata": {},
   "outputs": [
    {
     "name": "stdout",
     "output_type": "stream",
     "text": [
      "Requirement already satisfied: h5py in c:\\users\\bpin\\appdata\\local\\packages\\pythonsoftwarefoundation.python.3.10_qbz5n2kfra8p0\\localcache\\local-packages\\python310\\site-packages (3.10.0)Note: you may need to restart the kernel to use updated packages.\n",
      "\n",
      "Requirement already satisfied: numpy>=1.17.3 in c:\\users\\bpin\\appdata\\local\\packages\\pythonsoftwarefoundation.python.3.10_qbz5n2kfra8p0\\localcache\\local-packages\\python310\\site-packages (from h5py) (1.23.4)\n"
     ]
    },
    {
     "name": "stderr",
     "output_type": "stream",
     "text": [
      "\n",
      "[notice] A new release of pip is available: 23.0.1 -> 23.3.1\n",
      "[notice] To update, run: C:\\Users\\BPIN\\AppData\\Local\\Microsoft\\WindowsApps\\PythonSoftwareFoundation.Python.3.10_qbz5n2kfra8p0\\python.exe -m pip install --upgrade pip\n"
     ]
    }
   ],
   "source": [
    "pip install h5py"
   ]
  },
  {
   "cell_type": "code",
   "execution_count": 2,
   "metadata": {},
   "outputs": [],
   "source": [
    "import h5py"
   ]
  },
  {
   "cell_type": "code",
   "execution_count": 3,
   "metadata": {},
   "outputs": [
    {
     "name": "stdout",
     "output_type": "stream",
     "text": [
      "['science']\n"
     ]
    }
   ],
   "source": [
    "\n",
    "with h5py.File(\"C:/Users/BPIN/Desktop/reva_hackathon-23/hdf5greenland.h5\", 'r') as file:\n",
    "    print(list(file.keys()))"
   ]
  },
  {
   "cell_type": "code",
   "execution_count": 4,
   "metadata": {},
   "outputs": [
    {
     "name": "stdout",
     "output_type": "stream",
     "text": [
      "science\n",
      "  Group contents: ['LSAR']\n"
     ]
    }
   ],
   "source": [
    "\n",
    "\n",
    "# Open the HDF5 file\n",
    "with h5py.File(\"C:/Users/BPIN/Desktop/reva_hackathon-23/hdf5greenland.h5\", 'r') as file:\n",
    "    # List all datasets and groups at the top level\n",
    "    top_level_keys = list(file.keys())\n",
    "\n",
    "    # Print the datasets and groups\n",
    "    for key in top_level_keys:\n",
    "        print(key)\n",
    "        if isinstance(file[key], h5py.Group):\n",
    "            print(\"  Group contents:\", list(file[key].keys()))"
   ]
  },
  {
   "cell_type": "code",
   "execution_count": 5,
   "metadata": {},
   "outputs": [
    {
     "name": "stdout",
     "output_type": "stream",
     "text": [
      "SLC\n",
      "  Group contents: ['metadata', 'swaths']\n",
      "identification\n",
      "  Group contents: ['absoluteOrbitNumber', 'boundingPolygon', 'cycleNumber', 'diagnosticModeFlag', 'frameNumber', 'isUrgentObservation', 'listOfFrequencies', 'lookDirection', 'missionId', 'orbitPassDirection', 'plannedDatatakeId', 'plannedObservationId', 'processingType', 'productType', 'productVersion', 'trackNumber', 'zeroDopplerEndTime', 'zeroDopplerStartTime']\n"
     ]
    }
   ],
   "source": [
    "import h5py\n",
    "\n",
    "# Open the HDF5 file\n",
    "with h5py.File(\"C:/Users/BPIN/Desktop/reva_hackathon-23/hdf5greenland.h5\", 'r') as file:\n",
    "    # Access the 'LSAR' subgroup within the 'science' group\n",
    "    lsar_group = file['science']['LSAR']\n",
    "    \n",
    "    # List datasets and subgroups within 'LSAR'\n",
    "    lsar_contents = list(lsar_group.keys())\n",
    "    \n",
    "    # Print the datasets and subgroups\n",
    "    for key in lsar_contents:\n",
    "        print(key)\n",
    "        # If the key corresponds to another group, display its contents as well\n",
    "        if isinstance(lsar_group[key], h5py.Group):\n",
    "            print(\"  Group contents:\", list(lsar_group[key].keys()))\n",
    "\n"
   ]
  },
  {
   "cell_type": "markdown",
   "metadata": {},
   "source": [
    "1. Extracting Metadata from the SLC Group:"
   ]
  },
  {
   "cell_type": "code",
   "execution_count": 6,
   "metadata": {},
   "outputs": [],
   "source": [
    "import h5py\n",
    "\n",
    "# Open the HDF5 file\n",
    "with h5py.File(\"C:/Users/BPIN/Desktop/reva_hackathon-23/hdf5greenland.h5\", 'r') as file:\n",
    "    # Access the metadata dataset within the SLC group\n",
    "    metadata = file['science']['LSAR']['SLC']['metadata']\n",
    "    \n",
    "    # Print the contents of the metadata\n",
    "    for key, value in metadata.attrs.items():\n",
    "        print(f\"{key}: {value}\")\n",
    "\n"
   ]
  },
  {
   "cell_type": "code",
   "execution_count": 7,
   "metadata": {},
   "outputs": [
    {
     "name": "stdout",
     "output_type": "stream",
     "text": [
      "metadata\n",
      "swaths\n"
     ]
    }
   ],
   "source": [
    "with h5py.File(\"C:/Users/BPIN/Desktop/reva_hackathon-23/hdf5greenland.h5\", 'r') as file:\n",
    "    # Access the SLC group\n",
    "    slc_group = file['science']['LSAR']['SLC']\n",
    "    \n",
    "    # Print the datasets and subgroups within 'SLC'\n",
    "    for key in slc_group.keys():\n",
    "        print(key)\n"
   ]
  },
  {
   "cell_type": "code",
   "execution_count": 8,
   "metadata": {},
   "outputs": [
    {
     "name": "stdout",
     "output_type": "stream",
     "text": [
      "attitude\n",
      "calibrationInformation\n",
      "geolocationGrid\n",
      "orbit\n",
      "processingInformation\n"
     ]
    }
   ],
   "source": [
    "with h5py.File(\"C:/Users/BPIN/Desktop/reva_hackathon-23/hdf5greenland.h5\", 'r') as file:\n",
    "    # Access the metadata group within the SLC group\n",
    "    metadata_group = file['science']['LSAR']['SLC']['metadata']\n",
    "    \n",
    "    # Print the datasets and subgroups within 'metadata'\n",
    "    for key in metadata_group.keys():\n",
    "        print(key)\n"
   ]
  },
  {
   "cell_type": "code",
   "execution_count": 9,
   "metadata": {},
   "outputs": [
    {
     "name": "stdout",
     "output_type": "stream",
     "text": [
      "frequencyA\n",
      "frequencyB\n",
      "geometry\n",
      "slantRange\n",
      "zeroDopplerTime\n"
     ]
    }
   ],
   "source": [
    "with h5py.File(\"C:/Users/BPIN/Desktop/reva_hackathon-23/hdf5greenland.h5\", 'r') as file:\n",
    "    # Access the calibrationInformation dataset/subgroup within the metadata group\n",
    "    calibration_info = file['science']['LSAR']['SLC']['metadata']['calibrationInformation']\n",
    "    \n",
    "    # Print the datasets and subgroups within 'calibrationInformation'\n",
    "    for key in calibration_info.keys():\n",
    "        print(key)\n"
   ]
  },
  {
   "cell_type": "code",
   "execution_count": 10,
   "metadata": {},
   "outputs": [
    {
     "name": "stdout",
     "output_type": "stream",
     "text": [
      "alongTrackUnitVectorX\n",
      "alongTrackUnitVectorY\n",
      "coordinateX\n",
      "coordinateY\n",
      "elevationAngle\n",
      "epsg\n",
      "groundTrackVelocity\n",
      "heightAboveEllipsoid\n",
      "incidenceAngle\n",
      "losUnitVectorX\n",
      "losUnitVectorY\n",
      "slantRange\n",
      "zeroDopplerTime\n"
     ]
    }
   ],
   "source": [
    "with h5py.File(\"C:/Users/BPIN/Desktop/reva_hackathon-23/hdf5greenland.h5\", 'r') as file:\n",
    "    # Access the geolocationGrid dataset/subgroup within the metadata group\n",
    "    geo_grid = file['science']['LSAR']['SLC']['metadata']['geolocationGrid']\n",
    "    \n",
    "    # Print the datasets and subgroups within 'geolocationGrid'\n",
    "    for key in geo_grid.keys():\n",
    "        print(key)\n"
   ]
  },
  {
   "cell_type": "code",
   "execution_count": 30,
   "metadata": {},
   "outputs": [
    {
     "name": "stdout",
     "output_type": "stream",
     "text": [
      "[[[-1.0000000e+12 -1.0000000e+12 -1.0000000e+12 ...  6.5845718e+01\n",
      "    6.5927475e+01  6.6008667e+01]\n",
      "  [-1.0000000e+12 -1.0000000e+12 -1.0000000e+12 ...  6.5845718e+01\n",
      "    6.5927475e+01  6.6008667e+01]\n",
      "  [-1.0000000e+12 -1.0000000e+12 -1.0000000e+12 ...  6.5845718e+01\n",
      "    6.5927475e+01  6.6008667e+01]\n",
      "  ...\n",
      "  [-1.0000000e+12 -1.0000000e+12 -1.0000000e+12 ...  6.5845711e+01\n",
      "    6.5927467e+01  6.6008667e+01]\n",
      "  [-1.0000000e+12 -1.0000000e+12 -1.0000000e+12 ...  6.5845711e+01\n",
      "    6.5927467e+01  6.6008667e+01]\n",
      "  [-1.0000000e+12 -1.0000000e+12 -1.0000000e+12 ...  6.5845711e+01\n",
      "    6.5927467e+01  6.6008667e+01]]\n",
      "\n",
      " [[-1.0000000e+12 -1.0000000e+12 -1.0000000e+12 ...  6.6834343e+01\n",
      "    6.6912392e+01  6.6989906e+01]\n",
      "  [-1.0000000e+12 -1.0000000e+12 -1.0000000e+12 ...  6.6834343e+01\n",
      "    6.6912392e+01  6.6989906e+01]\n",
      "  [-1.0000000e+12 -1.0000000e+12 -1.0000000e+12 ...  6.6834343e+01\n",
      "    6.6912392e+01  6.6989906e+01]\n",
      "  ...\n",
      "  [-1.0000000e+12 -1.0000000e+12 -1.0000000e+12 ...  6.6834343e+01\n",
      "    6.6912392e+01  6.6989906e+01]\n",
      "  [-1.0000000e+12 -1.0000000e+12 -1.0000000e+12 ...  6.6834343e+01\n",
      "    6.6912392e+01  6.6989906e+01]\n",
      "  [-1.0000000e+12 -1.0000000e+12 -1.0000000e+12 ...  6.6834343e+01\n",
      "    6.6912392e+01  6.6989906e+01]]\n",
      "\n",
      " [[-1.0000000e+12 -1.0000000e+12 -1.0000000e+12 ...  6.7815651e+01\n",
      "    6.7890068e+01  6.7963982e+01]\n",
      "  [-1.0000000e+12 -1.0000000e+12 -1.0000000e+12 ...  6.7815651e+01\n",
      "    6.7890068e+01  6.7963982e+01]\n",
      "  [-1.0000000e+12 -1.0000000e+12 -1.0000000e+12 ...  6.7815651e+01\n",
      "    6.7890068e+01  6.7963982e+01]\n",
      "  ...\n",
      "  [-1.0000000e+12 -1.0000000e+12 -1.0000000e+12 ...  6.7815651e+01\n",
      "    6.7890068e+01  6.7963982e+01]\n",
      "  [-1.0000000e+12 -1.0000000e+12 -1.0000000e+12 ...  6.7815651e+01\n",
      "    6.7890068e+01  6.7963982e+01]\n",
      "  [-1.0000000e+12 -1.0000000e+12 -1.0000000e+12 ...  6.7815651e+01\n",
      "    6.7890068e+01  6.7963982e+01]]\n",
      "\n",
      " [[-1.0000000e+12 -1.0000000e+12 -1.0000000e+12 ...  6.8790070e+01\n",
      "    6.8860939e+01  6.8931328e+01]\n",
      "  [-1.0000000e+12 -1.0000000e+12 -1.0000000e+12 ...  6.8790070e+01\n",
      "    6.8860939e+01  6.8931328e+01]\n",
      "  [-1.0000000e+12 -1.0000000e+12 -1.0000000e+12 ...  6.8790070e+01\n",
      "    6.8860939e+01  6.8931328e+01]\n",
      "  ...\n",
      "  [-1.0000000e+12 -1.0000000e+12 -1.0000000e+12 ...  6.8790070e+01\n",
      "    6.8860931e+01  6.8931320e+01]\n",
      "  [-1.0000000e+12 -1.0000000e+12 -1.0000000e+12 ...  6.8790070e+01\n",
      "    6.8860931e+01  6.8931320e+01]\n",
      "  [-1.0000000e+12 -1.0000000e+12 -1.0000000e+12 ...  6.8790070e+01\n",
      "    6.8860931e+01  6.8931320e+01]]\n",
      "\n",
      " [[-1.0000000e+12 -1.0000000e+12 -1.0000000e+12 ...  6.9758026e+01\n",
      "    6.9825409e+01  6.9892342e+01]\n",
      "  [-1.0000000e+12 -1.0000000e+12 -1.0000000e+12 ...  6.9758026e+01\n",
      "    6.9825409e+01  6.9892342e+01]\n",
      "  [-1.0000000e+12 -1.0000000e+12 -1.0000000e+12 ...  6.9758026e+01\n",
      "    6.9825409e+01  6.9892342e+01]\n",
      "  ...\n",
      "  [-1.0000000e+12 -1.0000000e+12 -1.0000000e+12 ...  6.9758026e+01\n",
      "    6.9825409e+01  6.9892342e+01]\n",
      "  [-1.0000000e+12 -1.0000000e+12 -1.0000000e+12 ...  6.9758026e+01\n",
      "    6.9825409e+01  6.9892342e+01]\n",
      "  [-1.0000000e+12 -1.0000000e+12 -1.0000000e+12 ...  6.9758026e+01\n",
      "    6.9825409e+01  6.9892342e+01]]\n",
      "\n",
      " [[-1.0000000e+12 -1.0000000e+12 -1.0000000e+12 ...  7.0719917e+01\n",
      "    7.0783882e+01  7.0847420e+01]\n",
      "  [-1.0000000e+12 -1.0000000e+12 -1.0000000e+12 ...  7.0719917e+01\n",
      "    7.0783882e+01  7.0847420e+01]\n",
      "  [-1.0000000e+12 -1.0000000e+12 -1.0000000e+12 ...  7.0719917e+01\n",
      "    7.0783882e+01  7.0847420e+01]\n",
      "  ...\n",
      "  [-1.0000000e+12 -1.0000000e+12 -1.0000000e+12 ...  7.0719917e+01\n",
      "    7.0783875e+01  7.0847412e+01]\n",
      "  [-1.0000000e+12 -1.0000000e+12 -1.0000000e+12 ...  7.0719917e+01\n",
      "    7.0783875e+01  7.0847412e+01]\n",
      "  [-1.0000000e+12 -1.0000000e+12 -1.0000000e+12 ...  7.0719917e+01\n",
      "    7.0783875e+01  7.0847412e+01]]]\n"
     ]
    }
   ],
   "source": [
    "# Open the HDF5 file for reading\n",
    "with h5py.File(\"C:/Users/BPIN/Desktop/reva_hackathon-23/hdf5greenland.h5\", 'r') as file:\n",
    "    # Access the incidence angle dataset within the geolocationGrid group\n",
    "    incidence_angle_dataset = file['science/LSAR/SLC/metadata/geolocationGrid/incidenceAngle']\n",
    "    \n",
    "    # Read the data into memory\n",
    "    incidence_angle_data = incidence_angle_dataset[:]\n",
    "    \n",
    "    # Print the incidence angle data\n",
    "    print(incidence_angle_data)"
   ]
  },
  {
   "cell_type": "code",
   "execution_count": 11,
   "metadata": {},
   "outputs": [
    {
     "name": "stdout",
     "output_type": "stream",
     "text": [
      "Coordinate X - Min: -1000000000000.0, Max: -58.1089481877788\n",
      "Coordinate Y - Min: -1000000000000.0, Max: 76.36969433639241\n"
     ]
    }
   ],
   "source": [
    "with h5py.File(\"C:/Users/BPIN/Desktop/reva_hackathon-23/hdf5greenland.h5\", 'r') as file:\n",
    "    # Access the coordinateX and coordinateY datasets within geolocationGrid\n",
    "    coord_X_data = file['science']['LSAR']['SLC']['metadata']['geolocationGrid']['coordinateX'][:]\n",
    "    coord_Y_data = file['science']['LSAR']['SLC']['metadata']['geolocationGrid']['coordinateY'][:]\n",
    "    \n",
    "    # Print some basic statistics about the coordinates\n",
    "    print(f\"Coordinate X - Min: {coord_X_data.min()}, Max: {coord_X_data.max()}\")\n",
    "    print(f\"Coordinate Y - Min: {coord_Y_data.min()}, Max: {coord_Y_data.max()}\")\n"
   ]
  },
  {
   "cell_type": "code",
   "execution_count": 12,
   "metadata": {},
   "outputs": [
    {
     "name": "stdout",
     "output_type": "stream",
     "text": [
      "Filtered Coordinate X - Min: -67.79085744635624, Max: -58.1089481877788\n",
      "Filtered Coordinate Y - Min: 76.04697615849612, Max: 76.36969433639241\n"
     ]
    }
   ],
   "source": [
    "import numpy as np\n",
    "\n",
    "# Filtering out the erroneous values\n",
    "valid_X_indices = np.where(coord_X_data != -1000000000000.0)\n",
    "valid_Y_indices = np.where(coord_Y_data != -1000000000000.0)\n",
    "\n",
    "filtered_X_data = coord_X_data[valid_X_indices]\n",
    "filtered_Y_data = coord_Y_data[valid_Y_indices]\n",
    "\n",
    "# Print the revised min and max values\n",
    "print(f\"Filtered Coordinate X - Min: {filtered_X_data.min()}, Max: {filtered_X_data.max()}\")\n",
    "print(f\"Filtered Coordinate Y - Min: {filtered_Y_data.min()}, Max: {filtered_Y_data.max()}\")\n"
   ]
  },
  {
   "cell_type": "code",
   "execution_count": 13,
   "metadata": {},
   "outputs": [
    {
     "name": "stdout",
     "output_type": "stream",
     "text": [
      "['elevationAntennaPattern', 'nes0']\n"
     ]
    }
   ],
   "source": [
    "with h5py.File(\"C:/Users/BPIN/Desktop/reva_hackathon-23/hdf5greenland.h5\", 'r') as file:\n",
    "    # Access the HH subgroup or dataset within frequencyA of calibrationInformation\n",
    "    hh_calib = file['science']['LSAR']['SLC']['metadata']['calibrationInformation']['frequencyA']['HH']\n",
    "    \n",
    "    # Check if HH is a dataset or a subgroup\n",
    "    if isinstance(hh_calib, h5py.Group):\n",
    "        # If it's a subgroup, list its contents\n",
    "        print(list(hh_calib.keys()))\n",
    "    else:\n",
    "        # If it's a dataset, print some of its data for a glimpse (not the entire dataset if it's large)\n",
    "        print(hh_calib[:10])  # This will print the first 10 entries. You can adjust the number as needed.\n"
   ]
  },
  {
   "cell_type": "code",
   "execution_count": 14,
   "metadata": {},
   "outputs": [
    {
     "name": "stdout",
     "output_type": "stream",
     "text": [
      "[[1.+0.j 1.+0.j 1.+0.j ... 1.+0.j 1.+0.j 1.+0.j]\n",
      " [1.+0.j 1.+0.j 1.+0.j ... 1.+0.j 1.+0.j 1.+0.j]\n",
      " [1.+0.j 1.+0.j 1.+0.j ... 1.+0.j 1.+0.j 1.+0.j]\n",
      " ...\n",
      " [1.+0.j 1.+0.j 1.+0.j ... 1.+0.j 1.+0.j 1.+0.j]\n",
      " [1.+0.j 1.+0.j 1.+0.j ... 1.+0.j 1.+0.j 1.+0.j]\n",
      " [1.+0.j 1.+0.j 1.+0.j ... 1.+0.j 1.+0.j 1.+0.j]]\n"
     ]
    }
   ],
   "source": [
    "with h5py.File(\"C:/Users/BPIN/Desktop/reva_hackathon-23/hdf5greenland.h5\", 'r') as file:\n",
    "    # Access the elevationAntennaPattern dataset/subgroup within HH of frequencyA\n",
    "    elevation_pattern = file['science']['LSAR']['SLC']['metadata']['calibrationInformation']['frequencyA']['HH']['elevationAntennaPattern']\n",
    "    \n",
    "    # Check if it's a dataset or a subgroup\n",
    "    if isinstance(elevation_pattern, h5py.Group):\n",
    "        # If it's a subgroup, list its contents\n",
    "        print(list(elevation_pattern.keys()))\n",
    "    else:\n",
    "        # If it's a dataset, print some of its data for a glimpse (not the entire dataset if it's large)\n",
    "        print(elevation_pattern[:10])  # This will print the first 10 entries. Adjust as needed.\n"
   ]
  },
  {
   "cell_type": "code",
   "execution_count": 18,
   "metadata": {},
   "outputs": [
    {
     "data": {
      "image/png": "[encoded data removed]",
      "text/plain": [
       "<Figure size 1000x800 with 3 Axes>"
      ]
     },
     "metadata": {},
     "output_type": "display_data"
    }
   ],
   "source": [
    "import numpy as np\n",
    "import matplotlib.pyplot as plt\n",
    "\n",
    "with h5py.File(\"C:/Users/BPIN/Desktop/reva_hackathon-23/hdf5greenland.h5\", 'r') as file:\n",
    "    # Access the elevationAntennaPattern dataset again\n",
    "    elevation_pattern_dataset = file['science']['LSAR']['SLC']['metadata']['calibrationInformation']['frequencyA']['HH']['elevationAntennaPattern'][:]\n",
    "    subset = elevation_pattern_dataset[:100, :100]  # Adjust this as needed, here we're taking the first 100x100 values\n",
    "\n",
    "# Calculate magnitude and phase for the subset\n",
    "magnitude = np.abs(subset)\n",
    "phase = np.angle(subset)\n",
    "\n",
    "# Create subplots\n",
    "fig, axs = plt.subplots(2, 1, figsize=(10, 8))\n",
    "\n",
    "# Plot magnitude\n",
    "axs[0].imshow(magnitude, aspect='auto', cmap='viridis')\n",
    "axs[0].set_title('Antenna Pattern Magnitude')\n",
    "axs[0].set_xlabel('Angle Index')\n",
    "axs[0].set_ylabel('Magnitude')\n",
    "\n",
    "# Plot phase\n",
    "c = axs[1].imshow(phase, aspect='auto', cmap='twilight')\n",
    "axs[1].set_title('Antenna Pattern Phase')\n",
    "axs[1].set_xlabel('Angle Index')\n",
    "axs[1].set_ylabel('Phase')\n",
    "\n",
    "# Add a colorbar\n",
    "fig.colorbar(c, ax=axs[1], orientation='vertical')\n",
    "\n",
    "plt.tight_layout()\n",
    "plt.show()\n"
   ]
  },
  {
   "cell_type": "code",
   "execution_count": 19,
   "metadata": {},
   "outputs": [
    {
     "name": "stdout",
     "output_type": "stream",
     "text": [
      "[[193.2901  189.32712 185.36414 ... 174.86015 176.35916 177.85817]\n",
      " [193.2901  189.32712 185.36414 ... 174.86015 176.35916 177.85817]\n",
      " [193.2901  189.32712 185.36414 ... 174.86015 176.35916 177.85817]\n",
      " ...\n",
      " [193.2901  189.32712 185.36414 ... 174.86015 176.35916 177.85817]\n",
      " [193.2901  189.32712 185.36414 ... 174.86015 176.35916 177.85817]\n",
      " [193.2901  189.32712 185.36414 ... 174.86015 176.35916 177.85817]]\n"
     ]
    }
   ],
   "source": [
    "with h5py.File(\"C:/Users/BPIN/Desktop/reva_hackathon-23/hdf5greenland.h5\", 'r') as file:\n",
    "    # Access the nes0 dataset within HH of frequencyA\n",
    "    nesz_data = file['science']['LSAR']['SLC']['metadata']['calibrationInformation']['frequencyA']['HH']['nes0'][:]\n",
    "    print(nesz_data)\n"
   ]
  },
  {
   "cell_type": "code",
   "execution_count": 20,
   "metadata": {},
   "outputs": [
    {
     "data": {
      "image/png": "[encoded data removed]",
      "text/plain": [
       "<Figure size 1000x600 with 1 Axes>"
      ]
     },
     "metadata": {},
     "output_type": "display_data"
    }
   ],
   "source": [
    "import numpy as np\n",
    "import matplotlib.pyplot as plt\n",
    "\n",
    "with h5py.File(\"C:/Users/BPIN/Desktop/reva_hackathon-23/hdf5greenland.h5\", 'r') as file:\n",
    "    # Access the nes0 dataset within HH of frequencyA\n",
    "    nesz_data = file['science']['LSAR']['SLC']['metadata']['calibrationInformation']['frequencyA']['HH']['nes0'][:]\n",
    "\n",
    "# Visualization\n",
    "plt.figure(figsize=(10,6))\n",
    "plt.plot(nesz_data)\n",
    "plt.title('NESZ for HH Polarization')\n",
    "plt.xlabel('Index')\n",
    "plt.ylabel('NESZ Value (dB?)')  # The unit is often in dB, but you might want to verify this from the metadata or documentation\n",
    "plt.grid(True)\n",
    "plt.show()\n"
   ]
  },
  {
   "cell_type": "markdown",
   "metadata": {},
   "source": [
    "2)Extracting swaths from lsar dataset"
   ]
  },
  {
   "cell_type": "code",
   "execution_count": 21,
   "metadata": {},
   "outputs": [
    {
     "name": "stdout",
     "output_type": "stream",
     "text": [
      "frequencyA\n",
      "  Group contents: ['HH', 'HV', 'VH', 'VV', 'acquiredCenterFrequency', 'acquiredRangeBandwidth', 'listOfPolarizations', 'nominalAcquisitionPRF', 'numberOfSubSwaths', 'processedAzimuthBandwidth', 'processedCenterFrequency', 'processedRangeBandwidth', 'sceneCenterAlongTrackSpacing', 'sceneCenterGroundRangeSpacing', 'slantRange', 'slantRangeSpacing', 'validSamplesSubSwath1']\n",
      "frequencyB\n",
      "  Group contents: ['HH', 'HV', 'VH', 'VV', 'acquiredCenterFrequency', 'acquiredRangeBandwidth', 'listOfPolarizations', 'nominalAcquisitionPRF', 'numberOfSubSwaths', 'processedAzimuthBandwidth', 'processedCenterFrequency', 'processedRangeBandwidth', 'sceneCenterAlongTrackSpacing', 'sceneCenterGroundRangeSpacing', 'slantRange', 'slantRangeSpacing', 'validSamplesSubSwath1']\n",
      "zeroDopplerTime\n",
      "zeroDopplerTimeSpacing\n"
     ]
    }
   ],
   "source": [
    "import h5py\n",
    "\n",
    "# Open the HDF5 file\n",
    "with h5py.File(\"C:/Users/BPIN/Desktop/reva_hackathon-23/hdf5greenland.h5\", 'r') as file:\n",
    "    # Access the 'LSAR' subgroup within the 'science' group\n",
    "    lsar_group = file['science']['LSAR']\n",
    "    \n",
    "    # Access the 'swaths' subgroup within the 'SLC' group\n",
    "    swaths_group = lsar_group['SLC']['swaths']\n",
    "    \n",
    "    # List datasets and subgroups within 'swaths'\n",
    "    swaths_contents = list(swaths_group.keys())\n",
    "    \n",
    "    # Print the datasets and subgroups within 'swaths'\n",
    "    for key in swaths_contents:\n",
    "        print(key)\n",
    "        # If the key corresponds to another group, display its contents as well\n",
    "        if isinstance(swaths_group[key], h5py.Group):\n",
    "            print(\"  Group contents:\", list(swaths_group[key].keys()))\n",
    "\n"
   ]
  },
  {
   "cell_type": "code",
   "execution_count": 23,
   "metadata": {},
   "outputs": [],
   "source": [
    "\n",
    "\n",
    "# Open the HDF5 file\n",
    "with h5py.File(\"C:/Users/BPIN/Desktop/reva_hackathon-23/hdf5greenland.h5\", 'r') as file:\n",
    "    # Access the desired dataset\n",
    "    hh_data_frequencyA = file['science']['LSAR']['SLC']['swaths']['frequencyA']['HH'][:]\n",
    "    vv_data_frequencyA = file['science']['LSAR']['SLC']['swaths']['frequencyA']['VV'][:]\n"
   ]
  },
  {
   "cell_type": "code",
   "execution_count": 24,
   "metadata": {},
   "outputs": [],
   "source": [
    "import numpy as np\n",
    "hh_magnitude_frequencyA = np.abs(hh_data_frequencyA)\n",
    "vv_magnitude_frequencyA = np.abs(vv_data_frequencyA)\n"
   ]
  },
  {
   "cell_type": "code",
   "execution_count": 26,
   "metadata": {},
   "outputs": [
    {
     "data": {
      "image/png": "[encoded data removed]",
      "text/plain": [
       "<Figure size 1200x600 with 4 Axes>"
      ]
     },
     "metadata": {},
     "output_type": "display_data"
    }
   ],
   "source": [
    "plt.figure(figsize=(12, 6))\n",
    "\n",
    "# Display magnitude of HH data for frequencyA\n",
    "plt.subplot(1, 2, 1)\n",
    "plt.imshow(hh_magnitude_frequencyA, cmap='gray')\n",
    "plt.colorbar()\n",
    "plt.title(\"HH Polarization Magnitude for frequencyA\")\n",
    "\n",
    "# Display magnitude of VV data for frequencyA\n",
    "plt.subplot(1, 2, 2)\n",
    "plt.imshow(vv_magnitude_frequencyA, cmap='gray')\n",
    "plt.colorbar()\n",
    "plt.title(\"VV Polarization Magnitude for frequencyA\")\n",
    "\n",
    "plt.tight_layout()\n",
    "plt.show()\n"
   ]
  },
  {
   "cell_type": "code",
   "execution_count": 28,
   "metadata": {},
   "outputs": [
    {
     "name": "stdout",
     "output_type": "stream",
     "text": [
      "HH Data\n",
      "[[-0.06060869+0.05796629j -0.03367954-0.00954072j  0.00546976-0.05256587j\n",
      "  ...  0.00601937+0.02720749j  0.05220874+0.03935894j\n",
      "  -0.0544054 +0.13621561j]\n",
      " [ 0.04248226+0.0040832j   0.00427249+0.00109756j -0.03182872-0.0688428j\n",
      "  ... -0.00744171+0.01880995j  0.01628088+0.06989489j\n",
      "  -0.01796605-0.01882496j]\n",
      " [-0.03652791+0.02213441j  0.02472829-0.03089876j  0.00224803+0.00208745j\n",
      "  ... -0.03501879-0.00820731j -0.02063387-0.04558722j\n",
      "  -0.01655774+0.04964946j]\n",
      " ...\n",
      " [-0.00360972+0.02918892j  0.00638079+0.00850437j -0.01797988-0.03812137j\n",
      "  ...  0.02366499-0.01482271j -0.0398742 +0.00492096j\n",
      "  -0.02299237-0.0086854j ]\n",
      " [-0.05660188-0.02865344j  0.00358339+0.02237932j -0.03445452+0.0645372j\n",
      "  ... -0.016774  +0.04431019j  0.08848701+0.02961271j\n",
      "   0.00993435-0.03060323j]\n",
      " [-0.03856878+0.04443979j -0.00841756-0.01661089j -0.03223604-0.01172959j\n",
      "  ...  0.0404801 -0.00980228j -0.02045112+0.01551988j\n",
      "   0.02779138+0.0091797j ]]\n",
      "HV Data\n",
      "[[-0.06533365+0.03871683j  0.02567195+0.05065052j -0.03169545+0.01468811j\n",
      "  ... -0.02817114-0.03150967j -0.0160009 +0.01252474j\n",
      "  -0.00467447-0.01463644j]\n",
      " [ 0.0453151 +0.02391459j -0.04510254-0.04042432j  0.05149036-0.00130009j\n",
      "  ... -0.01896646+0.09104448j  0.02601815-0.07839408j\n",
      "  -0.03146815+0.01623379j]\n",
      " [ 0.02396091-0.02315059j  0.02238858-0.01748047j  0.05002752+0.0478372j\n",
      "  ...  0.04321736-0.04499923j -0.04211874-0.00750755j\n",
      "   0.02375316-0.0631266j ]\n",
      " ...\n",
      " [ 0.06566755-0.00533909j  0.00603174+0.022057j    0.0121951 -0.02391599j\n",
      "  ... -0.00484609-0.01412925j  0.01744642+0.01214133j\n",
      "  -0.06548742-0.01990527j]\n",
      " [ 0.01197562-0.00465839j -0.04022702-0.01961976j  0.0046253 +0.02837493j\n",
      "  ...  0.0034757 +0.01032354j -0.05075854-0.0323434j\n",
      "   0.02540982+0.01408877j]\n",
      " [-0.0229104 +0.03575661j -0.03063155-0.00777516j -0.01399538-0.00709622j\n",
      "  ...  0.0593582 +0.03185247j -0.01931992-0.00641493j\n",
      "   0.00567172-0.00828631j]]\n"
     ]
    }
   ],
   "source": [
    "import numpy as np\n",
    "# Open the HDF5 file\n",
    "with h5py.File(\"C:/Users/BPIN/Desktop/reva_hackathon-23/hdf5greenland.h5\", \"r\") as file:\n",
    "    # Access the polarization datasets within 'frequencyA' group\n",
    "    hh_data_frequencyA = file['/science/LSAR/SLC/swaths/frequencyA/HH'][:]\n",
    "    hv_data_frequencyA = file['/science/LSAR/SLC/swaths/frequencyA/HV'][:]\n",
    "    \n",
    "    # rvi_frequencyA = 4 * (hv_data_frequencyA / hh_data_frequencyA)\n",
    "    print('HH Data')\n",
    "    print(hh_data_frequencyA)\n",
    "    print('HV Data')\n",
    "    print(hv_data_frequencyA)\n",
    "    # print(rvi_frequencyA)\n",
    "\n",
    "    # # Access the polarization datasets within 'frequencyB' group (if necessary)\n",
    "    # hh_data_frequencyB = file['/science/LSAR/SLC/swaths/frequencyB/HH'][:]\n",
    "    # hv_data_frequencyB = file['/science/LSAR/SLC/swaths/frequencyB/HV'][:]\n",
    "    # vh_data_frequencyB = file['/science/LSAR/SLC/swaths/frequencyB/VH'][:]\n",
    "    # vv_data_frequencyB = file['/science/LSAR/SLC/swaths/frequencyB/VV'][:]\n"
   ]
  },
  {
   "cell_type": "code",
   "execution_count": 29,
   "metadata": {},
   "outputs": [
    {
     "data": {
      "text/html": [
       "<div>\n",
       "<style scoped>\n",
       "    .dataframe tbody tr th:only-of-type {\n",
       "        vertical-align: middle;\n",
       "    }\n",
       "\n",
       "    .dataframe tbody tr th {\n",
       "        vertical-align: top;\n",
       "    }\n",
       "\n",
       "    .dataframe thead th {\n",
       "        text-align: right;\n",
       "    }\n",
       "</style>\n",
       "<table border=\"1\" class=\"dataframe\">\n",
       "  <thead>\n",
       "    <tr style=\"text-align: right;\">\n",
       "      <th></th>\n",
       "      <th>HH_amplitude</th>\n",
       "      <th>HV_amplitude</th>\n",
       "    </tr>\n",
       "  </thead>\n",
       "  <tbody>\n",
       "    <tr>\n",
       "      <th>0</th>\n",
       "      <td>0.083866</td>\n",
       "      <td>0.075944</td>\n",
       "    </tr>\n",
       "    <tr>\n",
       "      <th>1</th>\n",
       "      <td>0.035005</td>\n",
       "      <td>0.056785</td>\n",
       "    </tr>\n",
       "    <tr>\n",
       "      <th>2</th>\n",
       "      <td>0.052850</td>\n",
       "      <td>0.034933</td>\n",
       "    </tr>\n",
       "    <tr>\n",
       "      <th>3</th>\n",
       "      <td>0.054530</td>\n",
       "      <td>0.044542</td>\n",
       "    </tr>\n",
       "    <tr>\n",
       "      <th>4</th>\n",
       "      <td>0.043482</td>\n",
       "      <td>0.046906</td>\n",
       "    </tr>\n",
       "    <tr>\n",
       "      <th>...</th>\n",
       "      <td>...</td>\n",
       "      <td>...</td>\n",
       "    </tr>\n",
       "    <tr>\n",
       "      <th>107963225</th>\n",
       "      <td>0.037066</td>\n",
       "      <td>0.052583</td>\n",
       "    </tr>\n",
       "    <tr>\n",
       "      <th>107963226</th>\n",
       "      <td>0.057761</td>\n",
       "      <td>0.025746</td>\n",
       "    </tr>\n",
       "    <tr>\n",
       "      <th>107963227</th>\n",
       "      <td>0.041650</td>\n",
       "      <td>0.067364</td>\n",
       "    </tr>\n",
       "    <tr>\n",
       "      <th>107963228</th>\n",
       "      <td>0.025673</td>\n",
       "      <td>0.020357</td>\n",
       "    </tr>\n",
       "    <tr>\n",
       "      <th>107963229</th>\n",
       "      <td>0.029268</td>\n",
       "      <td>0.010041</td>\n",
       "    </tr>\n",
       "  </tbody>\n",
       "</table>\n",
       "<p>107963230 rows × 2 columns</p>\n",
       "</div>"
      ],
      "text/plain": [
       "           HH_amplitude  HV_amplitude\n",
       "0              0.083866      0.075944\n",
       "1              0.035005      0.056785\n",
       "2              0.052850      0.034933\n",
       "3              0.054530      0.044542\n",
       "4              0.043482      0.046906\n",
       "...                 ...           ...\n",
       "107963225      0.037066      0.052583\n",
       "107963226      0.057761      0.025746\n",
       "107963227      0.041650      0.067364\n",
       "107963228      0.025673      0.020357\n",
       "107963229      0.029268      0.010041\n",
       "\n",
       "[107963230 rows x 2 columns]"
      ]
     },
     "execution_count": 29,
     "metadata": {},
     "output_type": "execute_result"
    }
   ],
   "source": [
    "import pandas as pd\n",
    "import numpy as np\n",
    "\n",
    "# Assume we have the complex numpy arrays as follows (for demonstration, let's just create small arrays):\n",
    "hh_data_frequencyA = np.array(hh_data_frequencyA)\n",
    "\n",
    "hv_data_frequencyA = np.array(hv_data_frequencyA)\n",
    "\n",
    "# Convert complex numbers to amplitude (magnitude)\n",
    "hh_amplitude = np.abs(hh_data_frequencyA)\n",
    "hv_amplitude = np.abs(hv_data_frequencyA)\n",
    "\n",
    "# Flatten the 2D arrays into 1D arrays\n",
    "hh_amplitude_flat = hh_amplitude.flatten()\n",
    "hv_amplitude_flat = hv_amplitude.flatten()\n",
    "\n",
    "# Create a DataFrame with HH and HV amplitude as columns\n",
    "df = pd.DataFrame({'HH_amplitude': hh_amplitude_flat, 'HV_amplitude': hv_amplitude_flat})\n",
    "\n",
    "df"
   ]
  },
  {
   "cell_type": "code",
   "execution_count": 25,
   "metadata": {},
   "outputs": [
    {
     "data": {
      "image/png": "[encoded data removed]",
      "text/plain": [
       "<Figure size 640x480 with 1 Axes>"
      ]
     },
     "metadata": {},
     "output_type": "display_data"
    }
   ],
   "source": [
    "import matplotlib.pyplot as plt\n",
    "import seaborn as sns\n",
    "\n",
    "# Assuming 'data' is your DataFrame with the amplitude columns\n",
    "# data = pd.DataFrame({'HH_amplitude': [your HH data], 'HV_amplitude': [your HV data]})\n",
    "\n",
    "sns.boxplot(data=df[['HH_amplitude', 'HV_amplitude']])\n",
    "plt.title('Boxplot for HH and HV Amplitudes')\n",
    "plt.ylabel('Amplitude')\n",
    "plt.show()\n",
    "\n"
   ]
  },
  {
   "cell_type": "code",
   "execution_count": 27,
   "metadata": {},
   "outputs": [
    {
     "ename": "NameError",
     "evalue": "name 'df' is not defined",
     "output_type": "error",
     "traceback": [
      "\u001b[1;31m---------------------------------------------------------------------------\u001b[0m",
      "\u001b[1;31mNameError\u001b[0m                                 Traceback (most recent call last)",
      "\u001b[1;32mc:\\Users\\BPIN\\Desktop\\reva_hackathon-23\\HDF5Greenland.ipynb Cell 27\u001b[0m line \u001b[0;36m6\n\u001b[0;32m      <a href='vscode-notebook-cell:/c%3A/Users/BPIN/Desktop/reva_hackathon-23/HDF5Greenland.ipynb#X35sZmlsZQ%3D%3D?line=0'>1</a>\u001b[0m \u001b[39mimport\u001b[39;00m \u001b[39mpandas\u001b[39;00m \u001b[39mas\u001b[39;00m \u001b[39mpd\u001b[39;00m\n\u001b[0;32m      <a href='vscode-notebook-cell:/c%3A/Users/BPIN/Desktop/reva_hackathon-23/HDF5Greenland.ipynb#X35sZmlsZQ%3D%3D?line=2'>3</a>\u001b[0m \u001b[39m# Assuming 'data' is your DataFrame with the amplitude columns\u001b[39;00m\n\u001b[0;32m      <a href='vscode-notebook-cell:/c%3A/Users/BPIN/Desktop/reva_hackathon-23/HDF5Greenland.ipynb#X35sZmlsZQ%3D%3D?line=3'>4</a>\u001b[0m \u001b[39m# data = pd.DataFrame({'HH_amplitude': [your HH data], 'HV_amplitude': [your HV data]})\u001b[39;00m\n\u001b[1;32m----> <a href='vscode-notebook-cell:/c%3A/Users/BPIN/Desktop/reva_hackathon-23/HDF5Greenland.ipynb#X35sZmlsZQ%3D%3D?line=5'>6</a>\u001b[0m Q1 \u001b[39m=\u001b[39m df\u001b[39m.\u001b[39mquantile(\u001b[39m0.25\u001b[39m)\n\u001b[0;32m      <a href='vscode-notebook-cell:/c%3A/Users/BPIN/Desktop/reva_hackathon-23/HDF5Greenland.ipynb#X35sZmlsZQ%3D%3D?line=6'>7</a>\u001b[0m Q3 \u001b[39m=\u001b[39m df\u001b[39m.\u001b[39mquantile(\u001b[39m0.75\u001b[39m)\n\u001b[0;32m      <a href='vscode-notebook-cell:/c%3A/Users/BPIN/Desktop/reva_hackathon-23/HDF5Greenland.ipynb#X35sZmlsZQ%3D%3D?line=7'>8</a>\u001b[0m IQR \u001b[39m=\u001b[39m Q3 \u001b[39m-\u001b[39m Q1\n",
      "\u001b[1;31mNameError\u001b[0m: name 'df' is not defined"
     ]
    }
   ],
   "source": [
    "import pandas as pd\n",
    "\n",
    "# Assuming 'data' is your DataFrame with the amplitude columns\n",
    "# data = pd.DataFrame({'HH_amplitude': [your HH data], 'HV_amplitude': [your HV data]})\n",
    "\n",
    "Q1 = df.quantile(0.25)\n",
    "Q3 = df.quantile(0.75)\n",
    "IQR = Q3 - Q1\n",
    "\n",
    "# Determine the outliers for each feature\n",
    "outliers = ((df< (Q1 - 1.5 * IQR)) | (df> (Q3 + 1.5 * IQR)))\n",
    "\n",
    "# You can then filter these outliers as follows:\n",
    "hh_outliers = df['HH_amplitude'][outliers['HH_amplitude']]\n",
    "hv_outliers = df['HV_amplitude'][outliers['HV_amplitude']]\n",
    "\n",
    "# If you want to drop the outliers from the original DataFrame\n",
    "data_no_outliers = df[~((df < (Q1 - 1.5 * IQR)) | (df > (Q3 + 1.5 * IQR))).any(axis=1)]\n",
    "\n",
    "# Now, hh_outliers and hv_outliers contain the outlier values\n",
    "# And data_no_outliers contains the DataFrame without outliers\n"
   ]
  },
  {
   "cell_type": "code",
   "execution_count": 27,
   "metadata": {},
   "outputs": [],
   "source": [
    "import matplotlib.pyplot as plt\n",
    "import seaborn as sns\n",
    "\n",
    "# Assuming 'data' is your DataFrame with the amplitude columns\n",
    "# data = pd.DataFrame({'HH_amplitude': [your HH data], 'HV_amplitude': [your HV data]})\n",
    "\n",
    "sns.boxplot(data=data_no_outliers[['HH_amplitude', 'HV_amplitude']])\n",
    "plt.title('Boxplot for HH and HV Amplitudes')\n",
    "plt.ylabel('Amplitude')\n",
    "plt.show()\n"
   ]
  },
  {
   "cell_type": "markdown",
   "metadata": {},
   "source": [
    "Incidence Angle"
   ]
  },
  {
   "cell_type": "code",
   "execution_count": 38,
   "metadata": {},
   "outputs": [],
   "source": [
    "# Define a function to convert SAR data from complex to power scale\n",
    "def complex_to_power(complex_data):\n",
    "    return np.abs(complex_data)**2\n",
    "\n",
    "# Define a function to convert power to dB scale\n",
    "def power_to_dB(power_data):\n",
    "    # Replace zeros with very small number to avoid log of zero\n",
    "    power_data[power_data == 0] = np.finfo(float).eps\n",
    "    # Convert to dB\n",
    "    return 10 * np.log10(power_data)"
   ]
  },
  {
   "cell_type": "code",
   "execution_count": 37,
   "metadata": {},
   "outputs": [],
   "source": [
    "import numpy as np\n",
    "# Open the HDF5 file\n",
    "with h5py.File(\"C:/Users/BPIN/Desktop/reva_hackathon-23/hdf5greenland.h5\", \"r\") as file:\n",
    "    # Access the polarization datasets within 'frequencyA' group\n",
    "    hh_data_frequencyA = file['/science/LSAR/SLC/swaths/frequencyA/HH'][:]\n",
    "    hv_data_frequencyA = file['/science/LSAR/SLC/swaths/frequencyA/HV'][:]\n",
    "    vh_data_frequencyA = file['/science/LSAR/SLC/swaths/frequencyA/VH'][:]\n",
    "    vv_data_frequencyA = file['/science/LSAR/SLC/swaths/frequencyA/VV'][:]\n",
    "\n",
    "    # Access the polarization datasets within 'frequencyB' group (if necessary)\n",
    "    hh_data_frequencyB = file['/science/LSAR/SLC/swaths/frequencyB/HH'][:]\n",
    "    hv_data_frequencyB = file['/science/LSAR/SLC/swaths/frequencyB/HV'][:]\n",
    "    vh_data_frequencyB = file['/science/LSAR/SLC/swaths/frequencyB/VH'][:]\n",
    "    vv_data_frequencyB = file['/science/LSAR/SLC/swaths/frequencyB/VV'][:]\n",
    "\n",
    "    # Access the incidence angle dataset within the geolocationGrid group\n",
    "    incidence_angle_data = file['science/LSAR/SLC/metadata/geolocationGrid/incidenceAngle']\n",
    "\n"
   ]
  },
  {
   "cell_type": "code",
   "execution_count": 43,
   "metadata": {},
   "outputs": [],
   "source": [
    "# Open the HDF5 file and read the data\n",
    "with h5py.File(\"C:/Users/BPIN/Desktop/reva_hackathon-23/hdf5greenland.h5\", \"r\") as file:\n",
    "    # Process frequency A polarizations\n",
    "    freq_a_pols = ['HH', 'HV', 'VH', 'VV']\n",
    "    freq_a_db_data = {}\n",
    "    for pol in freq_a_pols:\n",
    "        # Read complex data\n",
    "        complex_data = file[f'/science/LSAR/SLC/swaths/frequencyA/{pol}'][:1000]\n",
    "        # Convert to power\n",
    "        power_data = complex_to_power(complex_data)\n",
    "        # Convert to dB scale\n",
    "        freq_a_db_data[f'{pol}_frequencyA'] = power_to_dB(power_data).flatten()  # Flatten to 1D for DataFrame\n",
    "\n",
    "    # Uncomment and repeat the process for frequency B if required\n",
    "    freq_b_pols = ['HH', 'HV', 'VH', 'VV']\n",
    "    freq_b_db_data = {}\n",
    "    for pol in freq_b_pols:\n",
    "        # Read complex data\n",
    "        complex_data = file[f'/science/LSAR/SLC/swaths/frequencyB/{pol}'][:1000]\n",
    "        # Convert to power\n",
    "        power_data = complex_to_power(complex_data)\n",
    "        # Convert to dB scale\n",
    "        freq_b_db_data[f'{pol}_frequencyB'] = power_to_dB(power_data).flatten()  # Flatten to 1D for DataFrame\n",
    "\n",
    "# Create a DataFrame for frequency A\n",
    "df_freq_a = pd.DataFrame(freq_a_db_data)\n",
    "\n",
    "# If you processed frequency B, create a DataFrame for frequency B\n",
    "df_freq_b = pd.DataFrame(freq_b_db_data)\n",
    "\n",
    "# Combine both DataFrames if both frequencies were processed\n",
    "df_combined = pd.concat([df_freq_a, df_freq_b], axis=1)\n",
    "\n",
    "# For this example, we will work with the frequency A DataFrame\n",
    "# Ensure the DataFrame has exactly 999,999 rows\n",
    "# if len(df_freq_a) > 99999:\n",
    "#     df_freq_a = df_freq_a.iloc[:99999]\n",
    "# You can now save this DataFrame, perform further processing, or visualize the data\n",
    "# df_freq_a.to_csv(\"C:/Users/BPIN/Desktop/reva_hackathon-23/sar_data_frequencyA.csv\", index=False)\n",
    "\n",
    "# If you created a DataFrame for frequency B, you can save it similarly\n",
    "# if len(df_freq_b) > 99999:\n",
    "#     df_freq_a = df_freq_a.iloc[:99999]\n",
    "# df_freq_b.to_csv(\"C:/Users/BPIN/Desktop/reva_hackathon-23/sar_data_frequencyB.csv\", index=False)\n",
    "\n",
    "# If you combined both, save the combined DataFrame\n",
    "# if len(df_combined) > 99999:\n",
    "#     df_freq_a = df_freq_a.iloc[:99999]\n",
    "df_combined.to_csv(\"C:/Users/BPIN/Desktop/reva_hackathon-23/sar_data_combined.csv\", index=False)"
   ]
  },
  {
   "cell_type": "code",
   "execution_count": 45,
   "metadata": {},
   "outputs": [
    {
     "name": "stdout",
     "output_type": "stream",
     "text": [
      "Group science\n",
      "Group science/LSAR\n",
      "Group science/LSAR/SLC\n",
      "Group science/LSAR/SLC/metadata\n",
      "Group science/LSAR/SLC/metadata/attitude\n",
      "Dataset science/LSAR/SLC/metadata/attitude/angularVelocity\n",
      "Dataset science/LSAR/SLC/metadata/attitude/attitudeType\n",
      "Dataset science/LSAR/SLC/metadata/attitude/eulerAngles\n",
      "Dataset science/LSAR/SLC/metadata/attitude/quaternions\n",
      "Dataset science/LSAR/SLC/metadata/attitude/time\n",
      "Group science/LSAR/SLC/metadata/calibrationInformation\n",
      "Group science/LSAR/SLC/metadata/calibrationInformation/frequencyA\n",
      "Group science/LSAR/SLC/metadata/calibrationInformation/frequencyA/HH\n",
      "Dataset science/LSAR/SLC/metadata/calibrationInformation/frequencyA/HH/elevationAntennaPattern\n",
      "Dataset science/LSAR/SLC/metadata/calibrationInformation/frequencyA/HH/nes0\n",
      "Group science/LSAR/SLC/metadata/calibrationInformation/frequencyA/HV\n",
      "Dataset science/LSAR/SLC/metadata/calibrationInformation/frequencyA/HV/elevationAntennaPattern\n",
      "Dataset science/LSAR/SLC/metadata/calibrationInformation/frequencyA/HV/nes0\n",
      "Group science/LSAR/SLC/metadata/calibrationInformation/frequencyA/VH\n",
      "Dataset science/LSAR/SLC/metadata/calibrationInformation/frequencyA/VH/elevationAntennaPattern\n",
      "Dataset science/LSAR/SLC/metadata/calibrationInformation/frequencyA/VH/nes0\n",
      "Group science/LSAR/SLC/metadata/calibrationInformation/frequencyA/VV\n",
      "Dataset science/LSAR/SLC/metadata/calibrationInformation/frequencyA/VV/elevationAntennaPattern\n",
      "Dataset science/LSAR/SLC/metadata/calibrationInformation/frequencyA/VV/nes0\n",
      "Group science/LSAR/SLC/metadata/calibrationInformation/frequencyB\n",
      "Group science/LSAR/SLC/metadata/calibrationInformation/frequencyB/HH\n",
      "Dataset science/LSAR/SLC/metadata/calibrationInformation/frequencyB/HH/elevationAntennaPattern\n",
      "Dataset science/LSAR/SLC/metadata/calibrationInformation/frequencyB/HH/nes0\n",
      "Group science/LSAR/SLC/metadata/calibrationInformation/frequencyB/HV\n",
      "Dataset science/LSAR/SLC/metadata/calibrationInformation/frequencyB/HV/elevationAntennaPattern\n",
      "Dataset science/LSAR/SLC/metadata/calibrationInformation/frequencyB/HV/nes0\n",
      "Group science/LSAR/SLC/metadata/calibrationInformation/frequencyB/VH\n",
      "Dataset science/LSAR/SLC/metadata/calibrationInformation/frequencyB/VH/elevationAntennaPattern\n",
      "Dataset science/LSAR/SLC/metadata/calibrationInformation/frequencyB/VH/nes0\n",
      "Group science/LSAR/SLC/metadata/calibrationInformation/frequencyB/VV\n",
      "Dataset science/LSAR/SLC/metadata/calibrationInformation/frequencyB/VV/elevationAntennaPattern\n",
      "Dataset science/LSAR/SLC/metadata/calibrationInformation/frequencyB/VV/nes0\n",
      "Group science/LSAR/SLC/metadata/calibrationInformation/geometry\n",
      "Dataset science/LSAR/SLC/metadata/calibrationInformation/geometry/beta0\n",
      "Dataset science/LSAR/SLC/metadata/calibrationInformation/geometry/gamma0\n",
      "Dataset science/LSAR/SLC/metadata/calibrationInformation/geometry/sigma0\n",
      "Dataset science/LSAR/SLC/metadata/calibrationInformation/slantRange\n",
      "Dataset science/LSAR/SLC/metadata/calibrationInformation/zeroDopplerTime\n",
      "Group science/LSAR/SLC/metadata/geolocationGrid\n",
      "Dataset science/LSAR/SLC/metadata/geolocationGrid/alongTrackUnitVectorX\n",
      "Dataset science/LSAR/SLC/metadata/geolocationGrid/alongTrackUnitVectorY\n",
      "Dataset science/LSAR/SLC/metadata/geolocationGrid/coordinateX\n",
      "Dataset science/LSAR/SLC/metadata/geolocationGrid/coordinateY\n",
      "Dataset science/LSAR/SLC/metadata/geolocationGrid/elevationAngle\n",
      "Dataset science/LSAR/SLC/metadata/geolocationGrid/epsg\n",
      "Dataset science/LSAR/SLC/metadata/geolocationGrid/groundTrackVelocity\n",
      "Dataset science/LSAR/SLC/metadata/geolocationGrid/heightAboveEllipsoid\n",
      "Dataset science/LSAR/SLC/metadata/geolocationGrid/incidenceAngle\n",
      "Dataset science/LSAR/SLC/metadata/geolocationGrid/losUnitVectorX\n",
      "Dataset science/LSAR/SLC/metadata/geolocationGrid/losUnitVectorY\n",
      "Dataset science/LSAR/SLC/metadata/geolocationGrid/slantRange\n",
      "Dataset science/LSAR/SLC/metadata/geolocationGrid/zeroDopplerTime\n",
      "Group science/LSAR/SLC/metadata/orbit\n",
      "Dataset science/LSAR/SLC/metadata/orbit/acceleration\n",
      "Dataset science/LSAR/SLC/metadata/orbit/orbitType\n",
      "Dataset science/LSAR/SLC/metadata/orbit/position\n",
      "Dataset science/LSAR/SLC/metadata/orbit/time\n",
      "Dataset science/LSAR/SLC/metadata/orbit/velocity\n",
      "Group science/LSAR/SLC/metadata/processingInformation\n",
      "Group science/LSAR/SLC/metadata/processingInformation/algorithms\n",
      "Dataset science/LSAR/SLC/metadata/processingInformation/algorithms/ISCEVersion\n",
      "Dataset science/LSAR/SLC/metadata/processingInformation/algorithms/SWSTCorrection\n",
      "Dataset science/LSAR/SLC/metadata/processingInformation/algorithms/azimuthCompression\n",
      "Dataset science/LSAR/SLC/metadata/processingInformation/algorithms/azimuthPresumming\n",
      "Dataset science/LSAR/SLC/metadata/processingInformation/algorithms/dopplerCentroidEstimation\n",
      "Dataset science/LSAR/SLC/metadata/processingInformation/algorithms/driftCompensator\n",
      "Dataset science/LSAR/SLC/metadata/processingInformation/algorithms/elevationAntennaPatternCorrection\n",
      "Dataset science/LSAR/SLC/metadata/processingInformation/algorithms/internalCalibration\n",
      "Dataset science/LSAR/SLC/metadata/processingInformation/algorithms/patchProcessing\n",
      "Dataset science/LSAR/SLC/metadata/processingInformation/algorithms/postProcessing\n",
      "Dataset science/LSAR/SLC/metadata/processingInformation/algorithms/rangeCellMigration\n",
      "Dataset science/LSAR/SLC/metadata/processingInformation/algorithms/rangeCompression\n",
      "Dataset science/LSAR/SLC/metadata/processingInformation/algorithms/rangeDependentGainCorrection\n",
      "Dataset science/LSAR/SLC/metadata/processingInformation/algorithms/rangeReferenceFunctionGenerator\n",
      "Dataset science/LSAR/SLC/metadata/processingInformation/algorithms/rangeSpreadingLossCorrection\n",
      "Dataset science/LSAR/SLC/metadata/processingInformation/algorithms/secondaryRangeCompression\n",
      "Group science/LSAR/SLC/metadata/processingInformation/inputs\n",
      "Dataset science/LSAR/SLC/metadata/processingInformation/inputs/attitudeFiles\n",
      "Dataset science/LSAR/SLC/metadata/processingInformation/inputs/auxcalFiles\n",
      "Dataset science/LSAR/SLC/metadata/processingInformation/inputs/configFiles\n",
      "Dataset science/LSAR/SLC/metadata/processingInformation/inputs/demFiles\n",
      "Dataset science/LSAR/SLC/metadata/processingInformation/inputs/l0bGranules\n",
      "Dataset science/LSAR/SLC/metadata/processingInformation/inputs/orbitFiles\n",
      "Group science/LSAR/SLC/metadata/processingInformation/parameters\n",
      "Dataset science/LSAR/SLC/metadata/processingInformation/parameters/azimuthChirpWeighting\n",
      "Dataset science/LSAR/SLC/metadata/processingInformation/parameters/effectiveVelocity\n",
      "Group science/LSAR/SLC/metadata/processingInformation/parameters/frequencyA\n",
      "Dataset science/LSAR/SLC/metadata/processingInformation/parameters/frequencyA/azimuthFMRate\n",
      "Dataset science/LSAR/SLC/metadata/processingInformation/parameters/frequencyA/dopplerCentroid\n",
      "Group science/LSAR/SLC/metadata/processingInformation/parameters/frequencyB\n",
      "Dataset science/LSAR/SLC/metadata/processingInformation/parameters/frequencyB/azimuthFMRate\n",
      "Dataset science/LSAR/SLC/metadata/processingInformation/parameters/frequencyB/dopplerCentroid\n",
      "Dataset science/LSAR/SLC/metadata/processingInformation/parameters/rangeChirpWeighting\n",
      "Dataset science/LSAR/SLC/metadata/processingInformation/parameters/referenceTerrainHeight\n",
      "Dataset science/LSAR/SLC/metadata/processingInformation/parameters/slantRange\n",
      "Dataset science/LSAR/SLC/metadata/processingInformation/parameters/zeroDopplerTime\n",
      "Group science/LSAR/SLC/swaths\n",
      "Group science/LSAR/SLC/swaths/frequencyA\n",
      "Dataset science/LSAR/SLC/swaths/frequencyA/HH\n",
      "Dataset science/LSAR/SLC/swaths/frequencyA/HV\n",
      "Dataset science/LSAR/SLC/swaths/frequencyA/VH\n",
      "Dataset science/LSAR/SLC/swaths/frequencyA/VV\n",
      "Dataset science/LSAR/SLC/swaths/frequencyA/acquiredCenterFrequency\n",
      "Dataset science/LSAR/SLC/swaths/frequencyA/acquiredRangeBandwidth\n",
      "Dataset science/LSAR/SLC/swaths/frequencyA/listOfPolarizations\n",
      "Dataset science/LSAR/SLC/swaths/frequencyA/nominalAcquisitionPRF\n",
      "Dataset science/LSAR/SLC/swaths/frequencyA/numberOfSubSwaths\n",
      "Dataset science/LSAR/SLC/swaths/frequencyA/processedAzimuthBandwidth\n",
      "Dataset science/LSAR/SLC/swaths/frequencyA/processedCenterFrequency\n",
      "Dataset science/LSAR/SLC/swaths/frequencyA/processedRangeBandwidth\n",
      "Dataset science/LSAR/SLC/swaths/frequencyA/sceneCenterAlongTrackSpacing\n",
      "Dataset science/LSAR/SLC/swaths/frequencyA/sceneCenterGroundRangeSpacing\n",
      "Dataset science/LSAR/SLC/swaths/frequencyA/slantRange\n",
      "Dataset science/LSAR/SLC/swaths/frequencyA/slantRangeSpacing\n",
      "Dataset science/LSAR/SLC/swaths/frequencyA/validSamplesSubSwath1\n",
      "Group science/LSAR/SLC/swaths/frequencyB\n",
      "Dataset science/LSAR/SLC/swaths/frequencyB/HH\n",
      "Dataset science/LSAR/SLC/swaths/frequencyB/HV\n",
      "Dataset science/LSAR/SLC/swaths/frequencyB/VH\n",
      "Dataset science/LSAR/SLC/swaths/frequencyB/VV\n",
      "Dataset science/LSAR/SLC/swaths/frequencyB/acquiredCenterFrequency\n",
      "Dataset science/LSAR/SLC/swaths/frequencyB/acquiredRangeBandwidth\n",
      "Dataset science/LSAR/SLC/swaths/frequencyB/listOfPolarizations\n",
      "Dataset science/LSAR/SLC/swaths/frequencyB/nominalAcquisitionPRF\n",
      "Dataset science/LSAR/SLC/swaths/frequencyB/numberOfSubSwaths\n",
      "Dataset science/LSAR/SLC/swaths/frequencyB/processedAzimuthBandwidth\n",
      "Dataset science/LSAR/SLC/swaths/frequencyB/processedCenterFrequency\n",
      "Dataset science/LSAR/SLC/swaths/frequencyB/processedRangeBandwidth\n",
      "Dataset science/LSAR/SLC/swaths/frequencyB/sceneCenterAlongTrackSpacing\n",
      "Dataset science/LSAR/SLC/swaths/frequencyB/sceneCenterGroundRangeSpacing\n",
      "Dataset science/LSAR/SLC/swaths/frequencyB/slantRange\n",
      "Dataset science/LSAR/SLC/swaths/frequencyB/slantRangeSpacing\n",
      "Dataset science/LSAR/SLC/swaths/frequencyB/validSamplesSubSwath1\n",
      "Dataset science/LSAR/SLC/swaths/zeroDopplerTime\n",
      "Dataset science/LSAR/SLC/swaths/zeroDopplerTimeSpacing\n",
      "Group science/LSAR/identification\n",
      "Dataset science/LSAR/identification/absoluteOrbitNumber\n",
      "Dataset science/LSAR/identification/boundingPolygon\n",
      "Dataset science/LSAR/identification/cycleNumber\n",
      "Dataset science/LSAR/identification/diagnosticModeFlag\n",
      "Dataset science/LSAR/identification/frameNumber\n",
      "Dataset science/LSAR/identification/isUrgentObservation\n",
      "Dataset science/LSAR/identification/listOfFrequencies\n",
      "Dataset science/LSAR/identification/lookDirection\n",
      "Dataset science/LSAR/identification/missionId\n",
      "Dataset science/LSAR/identification/orbitPassDirection\n",
      "Dataset science/LSAR/identification/plannedDatatakeId\n",
      "Dataset science/LSAR/identification/plannedObservationId\n",
      "Dataset science/LSAR/identification/processingType\n",
      "Dataset science/LSAR/identification/productType\n",
      "Dataset science/LSAR/identification/productVersion\n",
      "Dataset science/LSAR/identification/trackNumber\n",
      "Dataset science/LSAR/identification/zeroDopplerEndTime\n",
      "Dataset science/LSAR/identification/zeroDopplerStartTime\n"
     ]
    }
   ],
   "source": [
    "import h5py\n",
    "\n",
    "def print_name(name, obj):\n",
    "    print('Group' if isinstance(obj, h5py.Group) else 'Dataset', name)\n",
    "\n",
    "# Replace with your HDF5 file path\n",
    "hdf5_file_path = \"C:/Users/BPIN/Desktop/reva_hackathon-23/hdf5greenland.h5\"\n",
    "\n",
    "# Open the HDF5 file for reading\n",
    "with h5py.File(hdf5_file_path, 'r') as file:\n",
    "    # Use the visititems() function to call print_name() for each object in the file\n",
    "    file.visititems(print_name)\n"
   ]
  }
 ],
 "metadata": {
  "kernelspec": {
   "display_name": "Python 3",
   "language": "python",
   "name": "python3"
  },
  "language_info": {
   "codemirror_mode": {
    "name": "ipython",
    "version": 3
   },
   "file_extension": ".py",
   "mimetype": "text/x-python",
   "name": "python",
   "nbconvert_exporter": "python",
   "pygments_lexer": "ipython3",
   "version": "3.10.11"
  }
 },
 "nbformat": 4,
 "nbformat_minor": 2
}
