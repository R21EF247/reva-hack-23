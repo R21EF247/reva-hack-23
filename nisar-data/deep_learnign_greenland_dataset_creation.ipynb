{
 "cells": [
  {
   "cell_type": "code",
   "execution_count": 1,
   "metadata": {},
   "outputs": [
    {
     "ename": "ModuleNotFoundError",
     "evalue": "No module named 'h5py'",
     "output_type": "error",
     "traceback": [
      "\u001b[0;31m---------------------------------------------------------------------------\u001b[0m",
      "\u001b[0;31mModuleNotFoundError\u001b[0m                       Traceback (most recent call last)",
      "\u001b[1;32m/workspaces/reva-hack-23/nisar-data/deep_learnign_greenland_dataset_creation.ipynb Cell 1\u001b[0m line \u001b[0;36m1\n\u001b[0;32m----> <a href='vscode-notebook-cell://codespaces%2Blegendary-space-waffle-jj5v646j56p6hq57p/workspaces/reva-hack-23/nisar-data/deep_learnign_greenland_dataset_creation.ipynb#W0sdnNjb2RlLXJlbW90ZQ%3D%3D?line=0'>1</a>\u001b[0m \u001b[39mimport\u001b[39;00m \u001b[39mh5py\u001b[39;00m\n\u001b[1;32m      <a href='vscode-notebook-cell://codespaces%2Blegendary-space-waffle-jj5v646j56p6hq57p/workspaces/reva-hack-23/nisar-data/deep_learnign_greenland_dataset_creation.ipynb#W0sdnNjb2RlLXJlbW90ZQ%3D%3D?line=1'>2</a>\u001b[0m \u001b[39mimport\u001b[39;00m \u001b[39mpandas\u001b[39;00m \u001b[39mas\u001b[39;00m \u001b[39mpd\u001b[39;00m\n\u001b[1;32m      <a href='vscode-notebook-cell://codespaces%2Blegendary-space-waffle-jj5v646j56p6hq57p/workspaces/reva-hack-23/nisar-data/deep_learnign_greenland_dataset_creation.ipynb#W0sdnNjb2RlLXJlbW90ZQ%3D%3D?line=2'>3</a>\u001b[0m \u001b[39mimport\u001b[39;00m \u001b[39mnumpy\u001b[39;00m \u001b[39mas\u001b[39;00m \u001b[39mnp\u001b[39;00m\n",
      "\u001b[0;31mModuleNotFoundError\u001b[0m: No module named 'h5py'"
     ]
    }
   ],
   "source": [
    "import h5py\n",
    "import pandas as pd\n",
    "import numpy as np\n",
    "\n",
    "# Replace with your HDF5 file path\n",
    "hdf5_file_path = \"C:/Users/BPIN/Desktop/reva_hackathon-23/hdf5greenland.h5\"\n",
    "\n",
    "# Open the HDF5 file for reading\n",
    "with h5py.File(hdf5_file_path, 'r') as file:\n",
    "    # Access the VH backscatter dataset\n",
    "    vh_backscatter_dataset = file['science/LSAR/SLC/swaths/frequencyA/VH']\n",
    "    # Read the data and take the absolute value to get amplitude\n",
    "    vh_backscatter_amplitude = np.abs(vh_backscatter_dataset[:])\n",
    "    \n",
    "    # Access the VV backscatter dataset\n",
    "    vv_backscatter_dataset = file['science/LSAR/SLC/swaths/frequencyA/VV']\n",
    "    # Read the data and take the absolute value to get amplitude\n",
    "    vv_backscatter_amplitude = np.abs(vv_backscatter_dataset[:])\n",
    "    \n",
    "    # Access the incidence angle dataset\n",
    "    incidence_angle_dataset = file['science/LSAR/SLC/metadata/geolocationGrid/incidenceAngle']\n",
    "    # Read the data and convert to degrees if necessary\n",
    "    incidence_angle_data = np.array(incidence_angle_dataset[:])\n",
    "    \n",
    "    # Flatten the 2D arrays to 1D arrays if they are not already\n",
    "    vh_backscatter_flat = vh_backscatter_amplitude.flatten()[:1000]\n",
    "    vv_backscatter_flat = vv_backscatter_amplitude.flatten()[:1000]\n",
    "    incidence_angle_flat = incidence_angle_data.flatten()[:1000]\n",
    "\n",
    "    # Convert VH and VV backscatter amplitude to dB\n",
    "    vh_backscatter_db = 10 * np.log10(vh_backscatter_flat**2)\n",
    "    vv_backscatter_db = 10 * np.log10(vv_backscatter_flat**2)\n",
    "\n",
    "# Now, let's create the pandas DataFrame for the first 1000 entries\n",
    "# Soil moisture content would be added later, so we initialize it with NaNs for now\n",
    "soil_moisture_content = np.full(vh_backscatter_db.shape, np.nan)\n",
    "\n",
    "df = pd.DataFrame({\n",
    "    'VH_Backscatter_dB': vh_backscatter_db,\n",
    "    'VV_Backscatter_dB': vv_backscatter_db,\n",
    "    'Incidence_Angle_degrees': incidence_angle_flat,  # Convert to degrees if necessary\n",
    "    'Soil_Moisture_Content': soil_moisture_content\n",
    "})\n",
    "\n",
    "# Display the first few rows of the DataFrame\n",
    "print(df.head())\n"
   ]
  },
  {
   "cell_type": "code",
   "execution_count": 2,
   "metadata": {},
   "outputs": [
    {
     "ename": "NameError",
     "evalue": "name 'h5py' is not defined",
     "output_type": "error",
     "traceback": [
      "\u001b[0;31m---------------------------------------------------------------------------\u001b[0m",
      "\u001b[0;31mNameError\u001b[0m                                 Traceback (most recent call last)",
      "\u001b[1;32m/workspaces/reva-hack-23/nisar-data/deep_learnign_greenland_dataset_creation.ipynb Cell 2\u001b[0m line \u001b[0;36m7\n\u001b[1;32m      <a href='vscode-notebook-cell://codespaces%2Blegendary-space-waffle-jj5v646j56p6hq57p/workspaces/reva-hack-23/nisar-data/deep_learnign_greenland_dataset_creation.ipynb#W1sdnNjb2RlLXJlbW90ZQ%3D%3D?line=3'>4</a>\u001b[0m incidence_angle \u001b[39m=\u001b[39m []\n\u001b[1;32m      <a href='vscode-notebook-cell://codespaces%2Blegendary-space-waffle-jj5v646j56p6hq57p/workspaces/reva-hack-23/nisar-data/deep_learnign_greenland_dataset_creation.ipynb#W1sdnNjb2RlLXJlbW90ZQ%3D%3D?line=5'>6</a>\u001b[0m \u001b[39m# Open the HDF5 SAR data file\u001b[39;00m\n\u001b[0;32m----> <a href='vscode-notebook-cell://codespaces%2Blegendary-space-waffle-jj5v646j56p6hq57p/workspaces/reva-hack-23/nisar-data/deep_learnign_greenland_dataset_creation.ipynb#W1sdnNjb2RlLXJlbW90ZQ%3D%3D?line=6'>7</a>\u001b[0m \u001b[39mwith\u001b[39;00m h5py\u001b[39m.\u001b[39mFile(hdf5_file_path, \u001b[39m'\u001b[39m\u001b[39mr\u001b[39m\u001b[39m'\u001b[39m) \u001b[39mas\u001b[39;00m file:\n\u001b[1;32m      <a href='vscode-notebook-cell://codespaces%2Blegendary-space-waffle-jj5v646j56p6hq57p/workspaces/reva-hack-23/nisar-data/deep_learnign_greenland_dataset_creation.ipynb#W1sdnNjb2RlLXJlbW90ZQ%3D%3D?line=7'>8</a>\u001b[0m     \u001b[39m# Read VH and VV backscatter data\u001b[39;00m\n\u001b[1;32m      <a href='vscode-notebook-cell://codespaces%2Blegendary-space-waffle-jj5v646j56p6hq57p/workspaces/reva-hack-23/nisar-data/deep_learnign_greenland_dataset_creation.ipynb#W1sdnNjb2RlLXJlbW90ZQ%3D%3D?line=8'>9</a>\u001b[0m     vh_backscatter \u001b[39m=\u001b[39m file[\u001b[39m'\u001b[39m\u001b[39mscience/LSAR/SLC/swaths/frequencyA/VH\u001b[39m\u001b[39m'\u001b[39m][:\u001b[39m1000\u001b[39m, :]  \u001b[39m# Adjust indices as needed\u001b[39;00m\n\u001b[1;32m     <a href='vscode-notebook-cell://codespaces%2Blegendary-space-waffle-jj5v646j56p6hq57p/workspaces/reva-hack-23/nisar-data/deep_learnign_greenland_dataset_creation.ipynb#W1sdnNjb2RlLXJlbW90ZQ%3D%3D?line=9'>10</a>\u001b[0m     vv_backscatter \u001b[39m=\u001b[39m file[\u001b[39m'\u001b[39m\u001b[39mscience/LSAR/SLC/swaths/frequencyA/VV\u001b[39m\u001b[39m'\u001b[39m][:\u001b[39m1000\u001b[39m, :]  \u001b[39m# Adjust indices as needed\u001b[39;00m\n",
      "\u001b[0;31mNameError\u001b[0m: name 'h5py' is not defined"
     ]
    }
   ],
   "source": [
    "# Initialize arrays to hold the data\n",
    "vh_backscatter = []\n",
    "vv_backscatter = []\n",
    "incidence_angle = []\n",
    "\n",
    "# Open the HDF5 SAR data file\n",
    "with h5py.File(hdf5_file_path, 'r') as file:\n",
    "    # Read VH and VV backscatter data\n",
    "    vh_backscatter = file['science/LSAR/SLC/swaths/frequencyA/VH'][:1000, :]  # Adjust indices as needed\n",
    "    vv_backscatter = file['science/LSAR/SLC/swaths/frequencyA/VV'][:1000, :]  # Adjust indices as needed\n",
    "    \n",
    "    # Read incidence angle data\n",
    "    incidence_angle = file['science/LSAR/SLC/metadata/geolocationGrid/incidenceAngle'][:1000, :]  # Adjust indices as needed\n",
    "\n",
    "# Converting amplitude to dB\n",
    "vh_backscatter_db = 10 * np.log10(np.abs(vh_backscatter))\n",
    "vv_backscatter_db = 10 * np.log10(np.abs(vv_backscatter))\n",
    "\n",
    "# Making sure incidence angle is in degrees if it's not already\n",
    "incidence_angle_degrees = np.rad2deg(incidence_angle)\n",
    "\n",
    "# Output the shapes of the arrays as a sanity check\n",
    "(vh_backscatter_db.shape, vv_backscatter_db.shape, incidence_angle_degrees.shape)\n"
   ]
  },
  {
   "cell_type": "code",
   "execution_count": 10,
   "metadata": {},
   "outputs": [
    {
     "data": {
      "text/plain": [
       "((1000, 2581), (1000, 2475))"
      ]
     },
     "execution_count": 10,
     "metadata": {},
     "output_type": "execute_result"
    }
   ],
   "source": [
    "# Assuming incidence_angle has the shape (6, 1085, 225) which could be 6 different frames or something similar\n",
    "# You need to find the correct incidence angle data that corresponds to your backscatter data\n",
    "# This is a placeholder operation, you will need to adjust this based on how your data is structured\n",
    "incidence_angle_corrected = incidence_angle[0]  # This is just an example, you'll need to adjust it as per your data structure\n",
    "\n",
    "# Now, reshape or interpolate the incidence angle to match the backscatter array's dimensions\n",
    "# For this example, I'm using a simple repeat operation, but you'll likely need something more sophisticated\n",
    "incidence_angle_repeated = np.repeat(incidence_angle_corrected, 2581/225, axis=1)[:1000, :]\n",
    "\n",
    "# Sanity check for shapes\n",
    "(vh_backscatter_db.shape, incidence_angle_repeated.shape)\n"
   ]
  },
  {
   "cell_type": "code",
   "execution_count": 11,
   "metadata": {},
   "outputs": [
    {
     "name": "stderr",
     "output_type": "stream",
     "text": [
      "C:\\Users\\BPIN\\AppData\\Local\\Temp\\ipykernel_3524\\642689827.py:6: DeprecationWarning: `interp2d` is deprecated!\n",
      "`interp2d` is deprecated in SciPy 1.10 and will be removed in SciPy 1.13.0.\n",
      "\n",
      "For legacy code, nearly bug-for-bug compatible replacements are\n",
      "`RectBivariateSpline` on regular grids, and `bisplrep`/`bisplev` for\n",
      "scattered 2D data.\n",
      "\n",
      "In new code, for regular grids use `RegularGridInterpolator` instead.\n",
      "For scattered data, prefer `LinearNDInterpolator` or\n",
      "`CloughTocher2DInterpolator`.\n",
      "\n",
      "For more details see\n",
      "`https://scipy.github.io/devdocs/notebooks/interp_transition_guide.html`\n",
      "\n",
      "  f = interp2d(x, y, incidence_angle_corrected, kind='linear')\n",
      "C:\\Users\\BPIN\\AppData\\Local\\Temp\\ipykernel_3524\\642689827.py:13: DeprecationWarning:         `interp2d` is deprecated!\n",
      "        `interp2d` is deprecated in SciPy 1.10 and will be removed in SciPy 1.13.0.\n",
      "\n",
      "        For legacy code, nearly bug-for-bug compatible replacements are\n",
      "        `RectBivariateSpline` on regular grids, and `bisplrep`/`bisplev` for\n",
      "        scattered 2D data.\n",
      "\n",
      "        In new code, for regular grids use `RegularGridInterpolator` instead.\n",
      "        For scattered data, prefer `LinearNDInterpolator` or\n",
      "        `CloughTocher2DInterpolator`.\n",
      "\n",
      "        For more details see\n",
      "        `https://scipy.github.io/devdocs/notebooks/interp_transition_guide.html`\n",
      "\n",
      "  incidence_angle_interpolated = f(new_x, new_y)\n"
     ]
    },
    {
     "data": {
      "text/plain": [
       "((1000, 2581), (1000, 2581))"
      ]
     },
     "execution_count": 11,
     "metadata": {},
     "output_type": "execute_result"
    }
   ],
   "source": [
    "from scipy.interpolate import interp2d\n",
    "\n",
    "# Placeholder coordinates, you'll need actual coordinates corresponding to your data\n",
    "x = np.linspace(0, 1, incidence_angle_corrected.shape[1])\n",
    "y = np.linspace(0, 1, incidence_angle_corrected.shape[0])\n",
    "f = interp2d(x, y, incidence_angle_corrected, kind='linear')\n",
    "\n",
    "# New coordinates at which to interpolate\n",
    "new_x = np.linspace(0, 1, 2581)\n",
    "new_y = np.linspace(0, 1, 1000)\n",
    "\n",
    "# Perform the interpolation\n",
    "incidence_angle_interpolated = f(new_x, new_y)\n",
    "\n",
    "# Check the new shapes\n",
    "(vh_backscatter_db.shape, incidence_angle_interpolated.shape)\n"
   ]
  }
 ],
 "metadata": {
  "kernelspec": {
   "display_name": "Python 3",
   "language": "python",
   "name": "python3"
  },
  "language_info": {
   "codemirror_mode": {
    "name": "ipython",
    "version": 3
   },
   "file_extension": ".py",
   "mimetype": "text/x-python",
   "name": "python",
   "nbconvert_exporter": "python",
   "pygments_lexer": "ipython3",
   "version": "3.10.8"
  }
 },
 "nbformat": 4,
 "nbformat_minor": 2
}
